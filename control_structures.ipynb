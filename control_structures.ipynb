{
 "cells": [
  {
   "cell_type": "markdown",
   "metadata": {},
   "source": [
    "# Estructuras de control\n",
    "\n",
    "Como hemos dicho anteriormente, las estructuras de control utilizan sangría para crear bloques de código, a diferencia de otros lenguajes de programación que utilizan \"{ }\" u otros métodos.\n",
    "\n",
    "Esto hace que el código sea más legible siempre esté formateado.\n",
    "\n",
    "Tampoco es necesario \"( )\" para definir las condiciones, pero se puede utilizar.\n",
    "\n",
    "Las secuencias de control necesitan el caracter \":\" para comenzar un bloque de código"
   ]
  },
  {
   "cell_type": "code",
   "execution_count": 21,
   "metadata": {},
   "outputs": [
    {
     "name": "stdout",
     "output_type": "stream",
     "text": [
      "True\n",
      "flag is true\n"
     ]
    }
   ],
   "source": [
    "# Boolean variables are used like:\n",
    "\n",
    "flag = True\n",
    "\n",
    "if flag != False :\n",
    "    print (flag)\n",
    "\n",
    "# \"()\" can be used\n",
    "\n",
    "if (flag != False) :\n",
    "    print(\"flag is true\")"
   ]
  },
  {
   "cell_type": "markdown",
   "metadata": {},
   "source": [
    "## Operadores lógicos\n",
    "\n",
    "Esto no difiere de otros lenguajes de programación\n",
    "\n",
    "|Operador | Nombre |\n",
    "| :------------: | :------------: |\n",
    "| `==` | Igual |\n",
    "| `!=` | Distinto |\n",
    "|`>` |Mayor que|\n",
    "| `<` |Menor que|\n",
    "| `>=` | Mayor o igual que|\n",
    "| `<=` | Menor o igual que |"
   ]
  },
  {
   "cell_type": "code",
   "execution_count": 22,
   "metadata": {},
   "outputs": [
    {
     "name": "stdout",
     "output_type": "stream",
     "text": [
      "1. False\n",
      "2. True\n"
     ]
    }
   ],
   "source": [
    "var_cinco = 5\n",
    "\n",
    "var_diez = 10\n",
    "\n",
    "print(\"1.\", var_cinco > var_diez)\n",
    "\n",
    "print(\"2.\",var_cinco < var_diez)"
   ]
  },
  {
   "cell_type": "markdown",
   "metadata": {},
   "source": [
    "### Concatenar operadores lógicos\n",
    "\n",
    "Podemos concatenar los operadores lógicos \"not\", \"and\" y \"or\" para comprobar varias condiciones al mismo tiempo, por ejemplo:"
   ]
  },
  {
   "cell_type": "code",
   "execution_count": 23,
   "metadata": {},
   "outputs": [
    {
     "name": "stdout",
     "output_type": "stream",
     "text": [
      "He is eligible for a discount\n"
     ]
    }
   ],
   "source": [
    "# If the age is greater than 65 and he lives in Sevilla, he is eligible for a discount\n",
    "\n",
    "age = 70\n",
    "\n",
    "address = \"Sevilla\"\n",
    "\n",
    "if (age > 65 and address == \"Sevilla\"):\n",
    "    print(\"He is eligible for a discount\")\n",
    "else:\n",
    "    print(\"He is not eligible for a discount\")"
   ]
  },
  {
   "cell_type": "markdown",
   "metadata": {},
   "source": [
    "### Operador in (y not in)\n",
    "\n",
    "El operador in puede usarse para saber si un elemento se encuentra o no en una colección de elementos, por ejemplo"
   ]
  },
  {
   "cell_type": "code",
   "execution_count": 24,
   "metadata": {},
   "outputs": [
    {
     "name": "stdout",
     "output_type": "stream",
     "text": [
      "False\n",
      "True\n",
      "True\n"
     ]
    }
   ],
   "source": [
    "nombres = ['Carla', 'Juan', 'Sergio', 'Walter']\n",
    "\n",
    "print('Diego' in nombres)\n",
    "\n",
    "print('Carla' in nombres)\n",
    "\n",
    "print ('Diego' not in nombres)"
   ]
  },
  {
   "cell_type": "markdown",
   "metadata": {},
   "source": [
    "## Sentencias\n",
    "### Sentencia if\n",
    "\n",
    "Esto nos permite hacer algo cuando la condición es True\n",
    "\n",
    "Por ejemplo, si un valor es mayor que 10, mostramos el texto \"mayor que 10\"."
   ]
  },
  {
   "cell_type": "code",
   "execution_count": 25,
   "metadata": {},
   "outputs": [
    {
     "name": "stdout",
     "output_type": "stream",
     "text": [
      " The value is greater than 10\n"
     ]
    }
   ],
   "source": [
    "value = 25\n",
    "\n",
    "if value > 10 :\n",
    "    print (\" The value is greater than 10\")"
   ]
  },
  {
   "cell_type": "markdown",
   "metadata": {},
   "source": [
    "### Sentencia if-else\n",
    "\n",
    "También puede utilizar una sentencia else para especificar un bloque de código que se ejecutará si la condición es False.\n",
    "\n",
    "Por ejemplo, si un valor es mayor que 10, mostramos el texto \"mayor que 10\", si no, mostramos el texto \"menor que 10\"."
   ]
  },
  {
   "cell_type": "code",
   "execution_count": 26,
   "metadata": {},
   "outputs": [
    {
     "name": "stdout",
     "output_type": "stream",
     "text": [
      " The value is less or equal than 10\n"
     ]
    }
   ],
   "source": [
    "value = 9\n",
    "\n",
    "if value > 10 :\n",
    "    print (\" The value is greater than 10\")\n",
    "else:\n",
    "    print (\" The value is less or equal than 10\")"
   ]
  },
  {
   "cell_type": "markdown",
   "metadata": {},
   "source": [
    "### Sentencia if-elif\n",
    "\n",
    "También puede utilizar una sentencia elif para especificar condiciones adicionales que deben comprobarse\n",
    "\n",
    "Por ejemplo, si un valor es mayor que 10 mostramos el texto \"mayor que 10\", \n",
    "\n",
    "si no, comprobamos si es menor que 10 e imprimimos el texto \"menor que 10\",\n",
    "\n",
    "si el valor es igual a 10, se muestra el texto \"igual a 10\"."
   ]
  },
  {
   "cell_type": "code",
   "execution_count": 27,
   "metadata": {},
   "outputs": [
    {
     "name": "stdout",
     "output_type": "stream",
     "text": [
      "The value is equal to 5\n"
     ]
    }
   ],
   "source": [
    "value = 5\n",
    "if value > 5:\n",
    "    print(\"The value is greater than 5\")\n",
    "elif value < 5:\n",
    "    print(\"The value is less than 5\")\n",
    "else:\n",
    "    print(\"The value is equal to 5\")"
   ]
  },
  {
   "cell_type": "markdown",
   "metadata": {},
   "source": [
    "### Sentencia match\n",
    "\n",
    "En Python las sentencias switch se pueden hacer con la sentencia \"match\", por ejemplo:"
   ]
  },
  {
   "cell_type": "code",
   "execution_count": 28,
   "metadata": {},
   "outputs": [
    {
     "name": "stdout",
     "output_type": "stream",
     "text": [
      "You are in the Street or the Road\n"
     ]
    }
   ],
   "source": [
    "loc = 'Street'\n",
    "\n",
    "match loc:\n",
    "\n",
    "    case 'Park':         # Case 1\n",
    "        print('You are in the park')\n",
    "    case 'Restaurant':   # Case 2\n",
    "        print('You are in the Restaurant')\n",
    "    case 'House':        # Case 3\n",
    "        print('You are in the house')\n",
    "    case 'Car':          # Case 4\n",
    "        print('You are in the car')\n",
    "    case 'Street'|'Road':# Case 5\n",
    "        print('You are in the Street or the Road')\n",
    "    case _:              # Default\n",
    "        print('Where are you?')"
   ]
  },
  {
   "cell_type": "markdown",
   "metadata": {},
   "source": [
    "## Bucles \n",
    "\n",
    "### Bucle for\n",
    "\n",
    "El bucle for en Python se utiliza para iterar sobre una secuencia de elementos, como una lista o una cadena. Permite ejecutar un bloque de código varias veces, donde la variable del bucle tomará el valor de los elementos de la secuencia.\n",
    "\n",
    "He aquí un ejemplo de bucle for en Python:"
   ]
  },
  {
   "cell_type": "code",
   "execution_count": 29,
   "metadata": {},
   "outputs": [
    {
     "name": "stdout",
     "output_type": "stream",
     "text": [
      "acabar\n",
      "argentino\n",
      "astronauta\n"
     ]
    }
   ],
   "source": [
    "words = [\"acabar\",\"argentino\",\"astronauta\"]\n",
    "\n",
    "for i in words:\n",
    "    print(i)"
   ]
  },
  {
   "cell_type": "markdown",
   "metadata": {},
   "source": [
    "### Bucle while\n",
    "\n",
    "El bucle while en Python se utiliza para ejecutar un bloque de código repetidamente mientras una condición sea True. La condición se comprueba al principio de cada iteración, y si es True, se ejecuta el código dentro del bucle. Si la condición es False, el bucle termina y el control pasa a la siguiente sentencia después del bucle."
   ]
  },
  {
   "cell_type": "code",
   "execution_count": 30,
   "metadata": {},
   "outputs": [
    {
     "name": "stdout",
     "output_type": "stream",
     "text": [
      "0\n",
      "1\n",
      "2\n",
      "3\n",
      "4\n"
     ]
    }
   ],
   "source": [
    "i = 0\n",
    "\n",
    "while i < 5:\n",
    "    print(i)\n",
    "    i = i + 1\n"
   ]
  },
  {
   "cell_type": "markdown",
   "metadata": {},
   "source": [
    "## Funciones prácticas para usar\n",
    "\n",
    "### len()\n",
    "\n",
    "Podemos usar la función len() para conocer la longitud de una estructura, por ejemplo:"
   ]
  },
  {
   "cell_type": "code",
   "execution_count": 31,
   "metadata": {},
   "outputs": [
    {
     "name": "stdout",
     "output_type": "stream",
     "text": [
      "3\n"
     ]
    }
   ],
   "source": [
    "words = [\"acabar\",\"argentino\",\"astronauta\"]\n",
    "\n",
    "print(len(words))"
   ]
  },
  {
   "cell_type": "markdown",
   "metadata": {},
   "source": [
    "\n",
    "### range()\n",
    "Podemos utilizar la función range() para iterar sobre una secuencia de números, por ejemplo:"
   ]
  },
  {
   "cell_type": "code",
   "execution_count": 32,
   "metadata": {},
   "outputs": [
    {
     "name": "stdout",
     "output_type": "stream",
     "text": [
      "1. 0\n",
      "1. 1\n",
      "1. 2\n",
      "1. 3\n",
      "1. 4\n",
      "\n",
      "2. 20\n",
      "2. 21\n",
      "2. 22\n",
      "2. 23\n",
      "2. 24\n",
      "\n",
      "3. 20\n",
      "3. 30\n",
      "3. 40\n",
      "3. 50\n",
      "3. 60\n"
     ]
    }
   ],
   "source": [
    "for i in range(5): # from 0 to 4\n",
    "    print(\"1.\",i)\n",
    "\n",
    "print(\"\")\n",
    "\n",
    "for i in range(20,25): # from 20 to 24\n",
    "    print(\"2.\",i)\n",
    "\n",
    "print(\"\")\n",
    "\n",
    "for i in range(20,70,10): # from 20 to 60 with steps of 10\n",
    "    print(\"3.\",i)"
   ]
  },
  {
   "cell_type": "markdown",
   "metadata": {},
   "source": [
    "### sum()\n",
    "\n",
    "Podemos usar la función sum() para sumar listas de elementos numéricos, por ejemplo:"
   ]
  },
  {
   "cell_type": "code",
   "execution_count": 33,
   "metadata": {},
   "outputs": [
    {
     "name": "stdout",
     "output_type": "stream",
     "text": [
      "5050\n"
     ]
    }
   ],
   "source": [
    "listaNumeros = list(range(1,101)) # 1 + 2 + 3 + ... + 100\n",
    "\n",
    "print(sum(listaNumeros))"
   ]
  },
  {
   "cell_type": "markdown",
   "metadata": {},
   "source": [
    "### enumerate()\n",
    "\n",
    "La función enumerate() permite realizar un bucle sobre una secuencia de elementos para enumerarlos. En ella, gracias a Start, podemos especificar en qué número queremos que empiece. Esto devolverá una secuencia con tuplas (pares) donde aparecen los elementos de la primera secuencia junto al número.\n",
    "\n",
    "He aquí un ejemplo de cómo funciona enumerate():"
   ]
  },
  {
   "cell_type": "code",
   "execution_count": 34,
   "metadata": {},
   "outputs": [
    {
     "name": "stdout",
     "output_type": "stream",
     "text": [
      "[(0, 'Paula'), (1, 'Lisa'), (2, 'Juan'), (3, 'Pedro'), (4, 'Roberto'), (5, 'Begoña')]\n",
      "0 Paula\n",
      "1 Lisa\n",
      "2 Juan\n",
      "3 Pedro\n",
      "4 Roberto\n",
      "5 Begoña\n",
      "\n",
      "10 Paula\n",
      "11 Lisa\n",
      "12 Juan\n",
      "13 Pedro\n",
      "14 Roberto\n",
      "15 Begoña\n"
     ]
    }
   ],
   "source": [
    "people = [\"Paula\",\"Lisa\",\"Juan\",\"Pedro\",\"Roberto\",\"Begoña\"]\n",
    "\n",
    "a = list(enumerate(people)) # this is what the enumerate() function return\n",
    "print(a)\n",
    "\n",
    "for i, nombres in enumerate(people):\n",
    "    print(i,nombres)\n",
    "\n",
    "print(\"\")\n",
    "\n",
    "# We can specify the starting number\n",
    "\n",
    "for i, nombres in enumerate(people,start=10):\n",
    "    print(i,nombres)\n"
   ]
  },
  {
   "cell_type": "markdown",
   "metadata": {},
   "source": [
    "Este conocimiento puede combinarse con una estructura diferente, como un diccionario.\n",
    "\n",
    "Los diccionarios son colecciones desordenadas de pares clave-valor, por ejemplo:\n",
    "\n",
    "|Name (clave)\t|Status (valor) |\n",
    "|-----------|---------|\n",
    "|Paula\t|Online🟢|\n",
    "|Roberto\t|Offline🔴|\n",
    "|Samantha\t|Online🟢|\n",
    "|Juan\t|Offline🔴|\n",
    "|Emily\t|Online🟢|\n",
    "|Daniel\t|Offline🔴|\n",
    "|Rachel\t|Online🟢|\n",
    "|Brian\t|Offline🔴|\n",
    "|Andrew\t|Online🟢|\n",
    "|Maria\t|Offline🔴|\n"
   ]
  },
  {
   "cell_type": "code",
   "execution_count": 35,
   "metadata": {},
   "outputs": [
    {
     "name": "stdout",
     "output_type": "stream",
     "text": [
      "Paula Online🟢\n",
      "Roberto Offline🔴\n",
      "Samantha Online🟢\n",
      "Juan Offline🔴\n",
      "Emily Online🟢\n",
      "Daniel Offline🔴\n",
      "Rachel Online🟢\n",
      "Brian Offline🔴\n",
      "Andrew Online🟢\n",
      "Maria Offline🔴\n",
      "[('Paula', 'Online🟢'), ('Roberto', 'Offline🔴'), ('Samantha', 'Online🟢'), ('Juan', 'Offline🔴'), ('Emily', 'Online🟢'), ('Daniel', 'Offline🔴'), ('Rachel', 'Online🟢'), ('Brian', 'Offline🔴'), ('Andrew', 'Online🟢'), ('Maria', 'Offline🔴')]\n"
     ]
    }
   ],
   "source": [
    "people = { \"Paula\":\"Online🟢\", \"Roberto\":\"Offline🔴\", \"Samantha\":\"Online🟢\", \"Juan\":\"Offline🔴\", \"Emily\":\"Online🟢\", \"Daniel\":\"Offline🔴\", \"Rachel\":\"Online🟢\", \"Brian\":\"Offline🔴\", \"Andrew\":\"Online🟢\", \"Maria\":\"Offline🔴\" }\n",
    "# This dictionary is composed of 10 key-value pairs, where the keys are the names of the individuals and the values are their status as \"Online\" or \"Offline\".\n",
    "\n",
    "for name, status in people.items():\n",
    "    #if(status == \"Online\"):\n",
    "    #    print(name,status)\n",
    "    print(name,status)\n",
    "\n",
    "\n",
    "a = list(people.items()) # this is what the items() function returns\n",
    "print(a)"
   ]
  },
  {
   "cell_type": "markdown",
   "metadata": {},
   "source": [
    "Podemos usar un bucle while para detener el código cuando se alcanza una determinada condición, por ejemplo:"
   ]
  },
  {
   "cell_type": "code",
   "execution_count": 36,
   "metadata": {},
   "outputs": [
    {
     "name": "stdout",
     "output_type": "stream",
     "text": [
      "Found an Online🟢 user: Emily\n"
     ]
    }
   ],
   "source": [
    "# Search for an online user in the people dictionary\n",
    "people = { \"Paula\":\"Offline🔴\", \"Roberto\":\"Offline🔴\", \"Samantha\":\"Offline🔴\", \"Juan\":\"Offline🔴\", \"Emily\":\"Online🟢\", \"Daniel\":\"Offline🔴\", \"Rachel\":\"Online🟢\", \"Brian\":\"Offline🔴\", \"Andrew\":\"Online🟢\", \"Maria\":\"Offline🔴\" }\n",
    "\n",
    "listofpeople = list(people.items())\n",
    "\n",
    "found = False\n",
    "i=0\n",
    "while not found:\n",
    "    name, status = listofpeople[i]\n",
    "    if status == \"Online🟢\":\n",
    "        found = True\n",
    "        print(f\"Found an {status} user: {name}\")\n",
    "    i=i+1\n"
   ]
  },
  {
   "cell_type": "markdown",
   "metadata": {},
   "source": [
    "## Ejemplos prácticos usando bucles\n",
    "\n",
    "Imagina que tenemos una clase de 25 alumnos, de cada alumno tenemos las notas de todos sus examenes durante el trimestre y queremos calcular su nota media, conocer en qué tema tuvo la peor nota del examen.\n",
    "\n",
    "Por ejemplo, podríamos tener una lista de diccionarios, cada uno representando a un alumno, con una clave \"notas\" que es una lista con las notas de cada examen del alumno:"
   ]
  },
  {
   "cell_type": "code",
   "execution_count": 37,
   "metadata": {},
   "outputs": [],
   "source": [
    "alumnos = [    {'nombre': 'Juana', 'notas': [7, 8, 9, 10]},\n",
    "    {'nombre': 'Ana', 'notas': [5, 6, 7, 8]},\n",
    "    {'nombre': 'Pablo', 'notas': [9, 8, 7, 6]},\n",
    "    {'nombre': 'Alonso', 'notas': [3, 8, 9, 10]},\n",
    "    {'nombre': 'Julian', 'notas': [5, 6, 7, 8]},\n",
    "    {'nombre': 'Antonio', 'notas': [9,5, 7, 6]},\n",
    "    {'nombre': 'Jose', 'notas': [7, 8, 9, 10]},\n",
    "    {'nombre': 'Alicia', 'notas': [5, 9, 7, 8]},\n",
    "    {'nombre': 'María', 'notas': [1, 1, 1, 2]},\n",
    "]\n"
   ]
  },
  {
   "cell_type": "code",
   "execution_count": null,
   "metadata": {},
   "outputs": [],
   "source": []
  },
  {
   "cell_type": "markdown",
   "metadata": {},
   "source": [
    "Para calcular la nota media de cada alumno podemos usar un bucle para recorrer todas las notas de cada alumno y sumarlas, y luego dividir el resultado entre el número de examenes que ha tenido el alumno."
   ]
  },
  {
   "cell_type": "code",
   "execution_count": 38,
   "metadata": {},
   "outputs": [
    {
     "name": "stdout",
     "output_type": "stream",
     "text": [
      "La nota media de Juana es 8.5\n",
      "La nota media de Ana es 6.5\n",
      "La nota media de Pablo es 7.5\n",
      "La nota media de Alonso es 7.5\n",
      "La nota media de Julian es 6.5\n",
      "La nota media de Antonio es 6.75\n",
      "La nota media de Jose es 8.5\n",
      "La nota media de Alicia es 7.25\n",
      "La nota media de María es 1.25\n"
     ]
    }
   ],
   "source": [
    "\n",
    "for alumno in alumnos:\n",
    "    notas = alumno['notas']\n",
    "    num_examenes = len(notas)\n",
    "    suma_notas = sum(notas)\n",
    "    nota_media = suma_notas / num_examenes\n",
    "    print(f\"La nota media de {alumno['nombre']} es {nota_media}\")"
   ]
  },
  {
   "cell_type": "markdown",
   "metadata": {},
   "source": [
    "Y como sabemos el peor examen de cada alumno?"
   ]
  },
  {
   "cell_type": "code",
   "execution_count": null,
   "metadata": {},
   "outputs": [],
   "source": []
  },
  {
   "cell_type": "markdown",
   "metadata": {},
   "source": [
    "Para conocer en qué tema un alumno tuvo la peor nota de su examen, podríamos usar un bucle anidado para recorrer las notas de cada examen y compararlas entre sí. Por ejemplo:"
   ]
  },
  {
   "cell_type": "code",
   "execution_count": 43,
   "metadata": {},
   "outputs": [
    {
     "name": "stdout",
     "output_type": "stream",
     "text": [
      "Juana tuvo la peor nota en el Tema 1 on una nota de 7\n",
      "Ana tuvo la peor nota en el Tema 1 on una nota de 5\n",
      "Pablo tuvo la peor nota en el Tema 4 on una nota de 6\n",
      "Alonso tuvo la peor nota en el Tema 1 on una nota de 3\n",
      "Julian tuvo la peor nota en el Tema 1 on una nota de 5\n",
      "Antonio tuvo la peor nota en el Tema 2 on una nota de 5\n",
      "Jose tuvo la peor nota en el Tema 1 on una nota de 7\n",
      "Alicia tuvo la peor nota en el Tema 1 on una nota de 5\n",
      "María tuvo la peor nota en el Tema 1 on una nota de 1\n"
     ]
    }
   ],
   "source": [
    "\n",
    "for alumno in alumnos:\n",
    "    peor_nota = float('inf')\n",
    "    peor_tema = ''\n",
    "    for indice, nota in enumerate(alumno['notas'], start=1):\n",
    "        if nota < peor_nota:\n",
    "            peor_nota = nota\n",
    "            peor_tema = \"Tema \"+ str(indice)\n",
    "    print(alumno['nombre'],\"tuvo la peor nota en el\", peor_tema ,\"on una nota de\",str(peor_nota))"
   ]
  }
 ],
 "metadata": {
  "kernelspec": {
   "display_name": "Python 3.10.9 64-bit (microsoft store)",
   "language": "python",
   "name": "python3"
  },
  "language_info": {
   "codemirror_mode": {
    "name": "ipython",
    "version": 3
   },
   "file_extension": ".py",
   "mimetype": "text/x-python",
   "name": "python",
   "nbconvert_exporter": "python",
   "pygments_lexer": "ipython3",
   "version": "3.10.9"
  },
  "orig_nbformat": 4,
  "vscode": {
   "interpreter": {
    "hash": "85aece5883f23cf93a903b25fd3f6a5833dab6da9d10cf403dbbc785be5e4181"
   }
  }
 },
 "nbformat": 4,
 "nbformat_minor": 2
}
