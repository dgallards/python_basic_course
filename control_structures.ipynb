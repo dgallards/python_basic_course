{
 "cells": [
  {
   "cell_type": "markdown",
   "metadata": {},
   "source": [
    "# Control structures\n",
    "\n",
    "As we talked earlier control structures need indentation to create blocks of code, thats different from most other programming languages that use \"{ }\" or other methods.\n",
    "\n",
    "This make code more readable and code formatting is not necessary.\n",
    "\n",
    "Its also not needed \"( )\" to define the conditions, but usable."
   ]
  },
  {
   "cell_type": "code",
   "execution_count": 6,
   "metadata": {},
   "outputs": [
    {
     "name": "stdout",
     "output_type": "stream",
     "text": [
      "True\n",
      "flag is true\n"
     ]
    }
   ],
   "source": [
    "# Boolean variables are used like:\n",
    "\n",
    "flag = True\n",
    "\n",
    "if flag != False :\n",
    "    print (flag)\n",
    "\n",
    "# \"()\" can be used\n",
    "\n",
    "if (flag) :\n",
    "    print(\"flag is true\")"
   ]
  },
  {
   "cell_type": "markdown",
   "metadata": {},
   "source": [
    "## Logic operators\n",
    "\n",
    "This does not differ from other programming languages\n",
    "\n",
    "|Operator | Name |\n",
    "| :------------: | :------------: |\n",
    "| `==` | Equal |\n",
    "| `!=` | Not equal |\n",
    "| `>` | Greater  than |\n",
    "| `<` | Less than |\n",
    "| `>=` | Greater Than or Equal to |\n",
    "| `<=` | Less than or Equal to |"
   ]
  },
  {
   "cell_type": "code",
   "execution_count": 15,
   "metadata": {},
   "outputs": [
    {
     "name": "stdout",
     "output_type": "stream",
     "text": [
      "1. False\n",
      "2. True\n"
     ]
    }
   ],
   "source": [
    "var_cinco = 5\n",
    "\n",
    "var_diez = 10\n",
    "\n",
    "print(\"1.\", var_cinco > var_diez)\n",
    "\n",
    "print(\"2.\",var_cinco < var_diez)"
   ]
  },
  {
   "cell_type": "markdown",
   "metadata": {},
   "source": [
    "## Concatenate logic operators\n",
    "\n",
    "We can concatenate previous logic operators to check several statements at the same time, for example:"
   ]
  },
  {
   "cell_type": "code",
   "execution_count": 85,
   "metadata": {},
   "outputs": [
    {
     "name": "stdout",
     "output_type": "stream",
     "text": [
      "He is eligible for a discount\n"
     ]
    }
   ],
   "source": [
    "# If the age is greater than 65 and he lives in Sevilla, he is eligible for a discount\n",
    "\n",
    "age = 70\n",
    "\n",
    "address = \"Sevilla\"\n",
    "\n",
    "if (age > 65 and address == \"Sevilla\"):\n",
    "    print(\"He is eligible for a discount\")\n",
    "else:\n",
    "    print(\"He is not eligible for a discount\")"
   ]
  },
  {
   "cell_type": "markdown",
   "metadata": {},
   "source": [
    "## if statement\n",
    "\n",
    "This allow us to do something when the condition is true\n",
    "\n",
    "For example, if a value is greater than 10 we output the text \"greater than 10\""
   ]
  },
  {
   "cell_type": "code",
   "execution_count": 16,
   "metadata": {},
   "outputs": [
    {
     "name": "stdout",
     "output_type": "stream",
     "text": [
      " The value is greater than 10\n"
     ]
    }
   ],
   "source": [
    "value = 25\n",
    "\n",
    "if value > 10 :\n",
    "    print (\" The value is greater than 10\")"
   ]
  },
  {
   "cell_type": "markdown",
   "metadata": {},
   "source": [
    "## if-else statement\n",
    "\n",
    "You can also use an else clause to specify a block of code to be executed if the condition is False.\n",
    "\n",
    "For example, if a value is greater than 10 we output the text \"greater than 10\", else we output the text \"less than 10\""
   ]
  },
  {
   "cell_type": "code",
   "execution_count": 90,
   "metadata": {},
   "outputs": [
    {
     "name": "stdout",
     "output_type": "stream",
     "text": [
      " The value is less or equal than 10\n"
     ]
    }
   ],
   "source": [
    "value = 9\n",
    "\n",
    "if value > 10 :\n",
    "    print (\" The value is greater than 10\")\n",
    "else:\n",
    "    print (\" The value is less or equal than 10\")"
   ]
  },
  {
   "cell_type": "markdown",
   "metadata": {},
   "source": [
    "## if-elif statement\n",
    "\n",
    "You can also use an elif clause to specify additional conditions to be checked\n",
    "\n",
    "For example, if a value is greater than 10 we output the text \"greater than 10\", \n",
    "\n",
    "else we check if is less than 10 and output the text \"less than 10\",\n",
    "\n",
    "else the value is equal to ten and output the text \"equal to 10\""
   ]
  },
  {
   "cell_type": "code",
   "execution_count": 18,
   "metadata": {},
   "outputs": [
    {
     "name": "stdout",
     "output_type": "stream",
     "text": [
      "The value is equal to 5\n"
     ]
    }
   ],
   "source": [
    "value = 5\n",
    "if value > 5:\n",
    "    print(\"The value is greater than 5\")\n",
    "elif value < 5:\n",
    "    print(\"The value is less than 5\")\n",
    "else:\n",
    "    print(\"The value is equal to 5\")"
   ]
  },
  {
   "cell_type": "markdown",
   "metadata": {},
   "source": [
    "## switch? Even better!\n",
    "\n",
    "In Python switch clauses con be done with the \"match\" clause\n",
    "\n",
    "For example:"
   ]
  },
  {
   "cell_type": "code",
   "execution_count": 91,
   "metadata": {},
   "outputs": [
    {
     "name": "stdout",
     "output_type": "stream",
     "text": [
      "You are in the Street or the road\n"
     ]
    }
   ],
   "source": [
    "loc = 'Street'\n",
    "\n",
    "match loc:\n",
    "\n",
    "    case 'Park':         # Case 1\n",
    "        print('You are in the park')\n",
    "    case 'Restaurant':   # Case 2\n",
    "        print('You are in the Restaurant')\n",
    "    case 'House':        # Case 3\n",
    "        print('You are in the house')\n",
    "    case 'Car':          # Case 4\n",
    "        print('You are in the car')\n",
    "    case 'Street'|'Road':# Case 5\n",
    "        print('You are in the Street or the Road')\n",
    "    case _:              # Default\n",
    "        print('Where are you?')"
   ]
  },
  {
   "cell_type": "markdown",
   "metadata": {},
   "source": [
    "## for loops\n",
    "\n",
    "The for loop in Python is used to iterate over a sequence of elements, such as a list or a string. It allows you to execute a block of code repeatedly, with the loop variable taking on the value of each element in the sequence in turn.\n",
    "\n",
    "Here is an example of a for loop in Python:"
   ]
  },
  {
   "cell_type": "code",
   "execution_count": 28,
   "metadata": {},
   "outputs": [
    {
     "name": "stdout",
     "output_type": "stream",
     "text": [
      "acabar\n",
      "argentino\n",
      "astronauta\n"
     ]
    }
   ],
   "source": [
    "words = [\"acabar\",\"argentino\",\"astronauta\"]\n",
    "\n",
    "for i in words:\n",
    "    print(i)\n",
    "\n",
    "\n",
    "# We can iterate over a "
   ]
  },
  {
   "cell_type": "markdown",
   "metadata": {},
   "source": [
    "We can use the range() function to iterate over a sequence of numbers.\n",
    "\n",
    "For example:"
   ]
  },
  {
   "cell_type": "code",
   "execution_count": 47,
   "metadata": {},
   "outputs": [
    {
     "name": "stdout",
     "output_type": "stream",
     "text": [
      "1. 0\n",
      "1. 1\n",
      "1. 2\n",
      "1. 3\n",
      "1. 4\n",
      "\n",
      "2. 20\n",
      "2. 21\n",
      "2. 22\n",
      "2. 23\n",
      "2. 24\n",
      "\n",
      "3. 20\n",
      "3. 30\n",
      "3. 40\n",
      "3. 50\n",
      "3. 60\n"
     ]
    }
   ],
   "source": [
    "for i in range(5): # from 0 to 4\n",
    "    print(\"1.\",i)\n",
    "\n",
    "print(\"\")\n",
    "\n",
    "for i in range(20,25): # from 20 to 24\n",
    "    print(\"2.\",i)\n",
    "\n",
    "print(\"\")\n",
    "\n",
    "for i in range(20,70,10): # from 20 to 60 with steps of 10\n",
    "    print(\"3.\",i)"
   ]
  },
  {
   "cell_type": "markdown",
   "metadata": {},
   "source": [
    "The enumerate() function is a built-in function in Python that allows you to loop over an iterable and keep track of the index of each element. It returns an iterator that produces tuples containing the index and value of each element in the iterable.\n",
    "\n",
    "Here is an example of how enumerate() works:"
   ]
  },
  {
   "cell_type": "code",
   "execution_count": 76,
   "metadata": {},
   "outputs": [
    {
     "name": "stdout",
     "output_type": "stream",
     "text": [
      "0 Paula\n",
      "1 Lisa\n",
      "2 Juan\n",
      "3 Pedro\n",
      "4 Roberto\n",
      "5 Begoña\n",
      "\n",
      "10 Paula\n",
      "11 Lisa\n",
      "12 Juan\n",
      "13 Pedro\n",
      "14 Roberto\n",
      "15 Begoña\n",
      "[(0, 'Paula'), (1, 'Lisa'), (2, 'Juan'), (3, 'Pedro'), (4, 'Roberto'), (5, 'Begoña')]\n"
     ]
    }
   ],
   "source": [
    "people = [\"Paula\",\"Lisa\",\"Juan\",\"Pedro\",\"Roberto\",\"Begoña\"]\n",
    "\n",
    "for i, nombres in enumerate(people):\n",
    "    print(i,nombres)\n",
    "\n",
    "print(\"\")\n",
    "\n",
    "# We can specify the starting number\n",
    "\n",
    "for i, nombres in enumerate(people,start=10):\n",
    "    print(i,nombres)\n",
    "\n",
    "\n",
    "a = list(enumerate(people)) # this is what the enumerate() function return\n",
    "print(a)"
   ]
  },
  {
   "cell_type": "markdown",
   "metadata": {},
   "source": [
    "This can be combined with a different structure, like a dictionary.\n",
    "\n",
    "Dictionaries are unordered collections of key-value pairs.\n",
    "\n",
    "For example:\n",
    "\n",
    "|Name\t|Status |\n",
    "|-----------|---------|\n",
    "|Paula\t|Online🟢|\n",
    "|Roberto\t|Offline🔴|\n",
    "|Samantha\t|Online🟢|\n",
    "|Juan\t|Offline🔴|\n",
    "|Emily\t|Online🟢|\n",
    "|Daniel\t|Offline🔴|\n",
    "|Rachel\t|Online🟢|\n",
    "|Brian\t|Offline🔴|\n",
    "|Andrew\t|Online🟢|\n",
    "|Maria\t|Offline🔴|\n"
   ]
  },
  {
   "cell_type": "code",
   "execution_count": 77,
   "metadata": {},
   "outputs": [
    {
     "name": "stdout",
     "output_type": "stream",
     "text": [
      "Paula Online🟢\n",
      "Roberto Offline🔴\n",
      "Samantha Online🟢\n",
      "Juan Offline🔴\n",
      "Emily Online🟢\n",
      "Daniel Offline🔴\n",
      "Rachel Online🟢\n",
      "Brian Offline🔴\n",
      "Andrew Online🟢\n",
      "Maria Offline🔴\n",
      "[('Paula', 'Online🟢'), ('Roberto', 'Offline🔴'), ('Samantha', 'Online🟢'), ('Juan', 'Offline🔴'), ('Emily', 'Online🟢'), ('Daniel', 'Offline🔴'), ('Rachel', 'Online🟢'), ('Brian', 'Offline🔴'), ('Andrew', 'Online🟢'), ('Maria', 'Offline🔴')]\n"
     ]
    }
   ],
   "source": [
    "people = { \"Paula\":\"Online🟢\", \"Roberto\":\"Offline🔴\", \"Samantha\":\"Online🟢\", \"Juan\":\"Offline🔴\", \"Emily\":\"Online🟢\", \"Daniel\":\"Offline🔴\", \"Rachel\":\"Online🟢\", \"Brian\":\"Offline🔴\", \"Andrew\":\"Online🟢\", \"Maria\":\"Offline🔴\" }\n",
    "# This dictionary is composed of 10 key-value pairs, where the keys are the names of the individuals and the values are their status as \"Online\" or \"Offline\".\n",
    "\n",
    "\n",
    "\n",
    "for name, status in people.items():\n",
    "    #if(status == \"Online\"):\n",
    "    #    print(name,status)\n",
    "    print(name,status)\n",
    "\n",
    "\n",
    "a = list(people.items()) # this is what the items() function returns\n",
    "print(a)"
   ]
  },
  {
   "cell_type": "markdown",
   "metadata": {},
   "source": [
    "## While loop\n",
    "\n",
    "The while loop in Python is used to execute a block of code repeatedly as long as a condition is True. The condition is tested at the beginning of each iteration, and if it is True, the code in the loop block is executed. If the condition is False, the loop is terminated and control is passed to the next statement after the loop."
   ]
  },
  {
   "cell_type": "code",
   "execution_count": 78,
   "metadata": {},
   "outputs": [
    {
     "name": "stdout",
     "output_type": "stream",
     "text": [
      "0\n",
      "1\n",
      "2\n",
      "3\n",
      "4\n"
     ]
    }
   ],
   "source": [
    "i = 0\n",
    "\n",
    "while i < 5:\n",
    "    print(i)\n",
    "    i = i + 1"
   ]
  },
  {
   "cell_type": "markdown",
   "metadata": {},
   "source": [
    "This is useful to stop the code when a certain condition is achieved, for example:"
   ]
  },
  {
   "cell_type": "code",
   "execution_count": 86,
   "metadata": {},
   "outputs": [
    {
     "name": "stdout",
     "output_type": "stream",
     "text": [
      "Found an Online🟢 user: Emily\n"
     ]
    }
   ],
   "source": [
    "# Search for an online user in the people dictionary\n",
    "people = { \"Paula\":\"Offline🔴\", \"Roberto\":\"Offline🔴\", \"Samantha\":\"Offline🔴\", \"Juan\":\"Offline🔴\", \"Emily\":\"Online🟢\", \"Daniel\":\"Offline🔴\", \"Rachel\":\"Online🟢\", \"Brian\":\"Offline🔴\", \"Andrew\":\"Online🟢\", \"Maria\":\"Offline🔴\" }\n",
    "\n",
    "listofpeople = list(people.items())\n",
    "\n",
    "found = False\n",
    "i=0\n",
    "while not found:\n",
    "    name, status = listofpeople[i]\n",
    "    if status == \"Online🟢\":\n",
    "        found = True\n",
    "        print(f\"Found an {status} user: {name}\")\n",
    "    i=i+1\n"
   ]
  }
 ],
 "metadata": {
  "kernelspec": {
   "display_name": "Python 3.10.9 64-bit (microsoft store)",
   "language": "python",
   "name": "python3"
  },
  "language_info": {
   "codemirror_mode": {
    "name": "ipython",
    "version": 3
   },
   "file_extension": ".py",
   "mimetype": "text/x-python",
   "name": "python",
   "nbconvert_exporter": "python",
   "pygments_lexer": "ipython3",
   "version": "3.10.9"
  },
  "orig_nbformat": 4,
  "vscode": {
   "interpreter": {
    "hash": "85aece5883f23cf93a903b25fd3f6a5833dab6da9d10cf403dbbc785be5e4181"
   }
  }
 },
 "nbformat": 4,
 "nbformat_minor": 2
}
