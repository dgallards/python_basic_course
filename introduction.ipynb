{
 "cells": [
  {
   "cell_type": "markdown",
   "metadata": {},
   "source": [
    "# What is Python and why is it popular?\n",
    "\n",
    "Python is a high-level, interpreted programming language. It was first released in 1991 and has since become one of the most popular programming languages in the world.\n",
    "\n",
    "There are several reasons why Python is popular:\n",
    "\n",
    "1. It is easy to learn and use, especially for people who are new to programming. Python has a simple syntax and a large standard library, making it easy to get started with basic programming tasks.\n",
    "\n",
    "2. It is versatile and can be used for a wide range of applications, including web development, data analysis, scientific computing, and artificial intelligence.\n",
    "\n",
    "3. It has a large and active community of developers and users, which means that there are many resources available for learning and troubleshooting, and that new features and improvements are regularly being developed and released.\n",
    "\n",
    "4. It has strong support for object-oriented programming, which is a popular programming paradigm that allows developers to create reusable and modular code.\n",
    "\n",
    "Overall, Python is a powerful and widely-used programming language that is well-suited for a wide range of applications and is easy for beginners to learn."
   ]
  },
  {
   "cell_type": "markdown",
   "metadata": {},
   "source": [
    "# Creating a simple developing environment \n",
    "\n",
    "from the Windows Powel Shell console we will run:\n",
    "\n",
    "`$ python3`\n",
    "\n",
    "In Windows the system will open up the Microsoft Store if it hasn't been installed before. We will install it as it does not need additional privileges.\n",
    "\n",
    "When installed, we will run again the code avobe and a promt like this should come up:\n",
    "\n",
    "```\n",
    "$ python3 \n",
    "\n",
    "Python 3.10.9 (tags/v3.10.9:1dd9be6, Dec  6 2022, 20:01:21) [MSC v.1934 64 bit (AMD64)] on win32\n",
    "\n",
    "Type \"help\", \"copyright\", \"credits\" or \"license\" for more information.\n",
    "\n",
    ">>>\n",
    "```\n",
    "\n",
    "Next up, from the Microsoft Store we will install Visual Studio Code. This is a free, open-source code editor developed by Microsoft. It is available for Windows, macOS, and Linux, and can be used to edit and debug code in a variety of programming languages, including Python.\n",
    "If you're not confortable with it, you can use online editors like Google Colab, or other IDE at your choice, but VS Code will provide us a very helpful tool as the Extension Manager\n",
    "\n",
    "From The extension manager we will install the Microsfot plugin for Python, which will install other dependencies like the Jupyter Notebook addon I'm using right now.\n",
    "\n",
    "Jupyter is an open-source project that allows you to create and share documents that contain live code, equations, visualizations, and narrative text. It is often used for data analysis and scientific computing, as well as for teaching and learning programming.\n",
    "\n",
    "Jupyter notebooks are interactive documents that can be used to write and run code, display plots and charts, and include rich text and multimedia elements. They are saved in a file format called .ipynb, which stands for \"IPython Notebook.\"\n",
    "\n",
    "## An introduction to pip\n",
    "\n",
    "Pip is the package installer for Python. It is a command-line tool that allows you to install and manage packages, or collections of Python modules, that are available from the Python Package Index (PyPI).\n",
    "\n",
    "Using pip, you can install packages from the command line by typing pip install package_name.\n",
    "\n",
    "To use Jupyter, we will need a library called ipykernel. To install it we could run this line:\n",
    "\n",
    "`$ pip install ipykernel`\n",
    "\n",
    "If an error appears, we could run:\n",
    "\n",
    "`$ pip install --trusted-host pypi.org --trusted-host files.pythonhosted.org ipykernel`\n",
    "\n",
    "or:\n",
    "\n",
    "`$ pip install --user --trusted-host pypi.org --trusted-host files.pythonhosted.org ipykernel`"
   ]
  },
  {
   "cell_type": "markdown",
   "metadata": {},
   "source": [
    "# First steps in Python\n",
    "\n",
    "Python enables programs to be written compactly and readably. Programs written in Python are typically much shorter than equivalent C, C++, or Java programs, for several reasons:\n",
    "\n",
    "- the high-level data types allow you to express complex operations in a single statement;\n",
    "\n",
    "- statement grouping is done by indentation instead of beginning and ending brackets;\n",
    "\n",
    "- no variable or argument declarations are necessary.\n"
   ]
  },
  {
   "cell_type": "code",
   "execution_count": 1,
   "metadata": {},
   "outputs": [
    {
     "name": "stdout",
     "output_type": "stream",
     "text": [
      "Hello world\n"
     ]
    }
   ],
   "source": [
    "a = \"Hello world\" # Variable types or declaration is not necessary\n",
    "\n",
    "print(a)"
   ]
  },
  {
   "cell_type": "code",
   "execution_count": 11,
   "metadata": {},
   "outputs": [
    {
     "name": "stdout",
     "output_type": "stream",
     "text": [
      "0\n",
      "2\n",
      "4\n",
      "6\n",
      "8\n"
     ]
    }
   ],
   "source": [
    "i = 0 # Indentation is used to group scopes\n",
    "while i < 10:\n",
    "    if i % 2 == 0 :\n",
    "        print(i)\n",
    "    i = i + 1\n"
   ]
  },
  {
   "cell_type": "code",
   "execution_count": 10,
   "metadata": {},
   "outputs": [
    {
     "name": "stdout",
     "output_type": "stream",
     "text": [
      "[0, 2, 4, 6, 8]\n",
      "[0, 2, 4, 6, 8]\n"
     ]
    }
   ],
   "source": [
    "result = [x for x in range(10) if x % 2 == 0] # Complex operations can be achieved in one line of code\n",
    "print(result)\n",
    "\n",
    "result = []\n",
    "for x in range(10):\n",
    "    if x % 2 == 0:\n",
    "        result.append(x)\n",
    "print(result)"
   ]
  }
 ],
 "metadata": {
  "kernelspec": {
   "display_name": "Python 3.10.9 64-bit (microsoft store)",
   "language": "python",
   "name": "python3"
  },
  "language_info": {
   "codemirror_mode": {
    "name": "ipython",
    "version": 3
   },
   "file_extension": ".py",
   "mimetype": "text/x-python",
   "name": "python",
   "nbconvert_exporter": "python",
   "pygments_lexer": "ipython3",
   "version": "3.10.9"
  },
  "orig_nbformat": 4,
  "vscode": {
   "interpreter": {
    "hash": "85aece5883f23cf93a903b25fd3f6a5833dab6da9d10cf403dbbc785be5e4181"
   }
  }
 },
 "nbformat": 4,
 "nbformat_minor": 2
}
