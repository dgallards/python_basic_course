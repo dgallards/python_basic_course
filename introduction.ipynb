{
 "cells": [
  {
   "cell_type": "markdown",
   "metadata": {},
   "source": [
    "# ¿Qué es Python y por qué es popular?\n",
    "\n",
    "Python es un lenguaje de programación interpretado de alto nivel. Se lanzó en 1991 y desde entonces se ha convertido en uno de los lenguajes de programación más populares del mundo.\n",
    "\n",
    "Hay varias razones por las que Python es popular:\n",
    "\n",
    "1. Es fácil de aprender y utilizar, especialmente para los principiantes. Python tiene una sintaxis simple y una gran biblioteca estándar, por lo que es fácil empezar con las tareas básicas de programación.\n",
    "\n",
    "2. Es versátil y puede utilizarse para una amplia gama de aplicaciones, como el desarrollo web, el análisis de datos, la computación científica y la inteligencia artificial.\n",
    "\n",
    "3. Cuenta con una amplia y activa comunidad de desarrolladores y usuarios, lo que significa que hay muchos recursos disponibles para aprender y solucionar problemas, y regularmente desarrollan nuevas características y mejoras.\n",
    "\n",
    "4. Es muy compatible con la programación orientada a objetos, un popular paradigma de programación que permite a los desarrolladores crear código reutilizable y modular.\n",
    "\n",
    "En general, Python es un lenguaje de programación potente y muy utilizado que se adapta bien a una amplia gama de aplicaciones y es fácil de aprender para los principiantes."
   ]
  },
  {
   "cell_type": "markdown",
   "metadata": {},
   "source": [
    "# Crear un entorno de desarrollo sencillo \n",
    "\n",
    "Desde la consola de Windows Powel Shell ejecutaremos:\n",
    "\n",
    "`$ python3`\n",
    "\n",
    "En Windows el sistema nos abrirá la Microsoft Store si no se ha instalado antes. Lo instalaremos ya que no necesita privilegios adicionales.\n",
    "\n",
    "Una vez instalado, volveremos a ejecutar el código anterior y nos debería aparecer un prompt como el siguiente:\n",
    "\n",
    "```\n",
    "$ python3 \n",
    "\n",
    "Python 3.10.9 (tags/v3.10.9:1dd9be6, Dec  6 2022, 20:01:21) [MSC v.1934 64 bit (AMD64)] on win32\n",
    "\n",
    "Type \"help\", \"copyright\", \"credits\" or \"license\" for more information.\n",
    "\n",
    ">>>\n",
    "```\n",
    "\n",
    "Ahora instalaremos VS Code. VS Code es un editor de código Open Source multiplataforma muy potente que nos permite instalar multitud de extensiones creadas por la comunidad. Lo podemos instalar desde la Microsoft Store.\n",
    "\n",
    "Desde el gestor de extensiones instalaremos el plug-in Microsoft para Python, que instalará otras dependencias como el add-on Jupyter Notebook que vamos a usar en este curso.\n",
    "\n",
    "Jupyter es un proyecto de código abierto que permite crear y compartir documentos que contienen código en vivo, ecuaciones, visualizaciones y texto narrativo. Se utiliza a menudo para el análisis de datos y la computación científica, así como para la enseñanza y el aprendizaje de la programación.\n",
    "\n",
    "Los cuadernos Jupyter son documentos interactivos que pueden utilizarse para escribir y ejecutar código, mostrar gráficos y diagramas e incluir texto enriquecido y elementos multimedia. Se guardan en un formato de archivo llamado .ipynb, que significa \"IPython Notebook\".\n",
    "\n",
    "## Introducción a Pip\n",
    "\n",
    "Pip es el instalador de paquetes para Python. Es una herramienta de consola que permite instalar y gestionar paquetes o módulos de Python, que están disponibles en el Python Package Index (PyPI).\n",
    "\n",
    "Con Pip, puedes instalar paquetes desde la línea de comandos escribiendo :\n",
    "\n",
    "`pip install <nombre_paquete>`\n",
    "\n",
    "Para utilizar Jupyter, necesitaremos una biblioteca llamada ipykernel. Para instalarla podemos ejecutar esta línea\n",
    "\n",
    "`$ pip install ipykernel`\n",
    "\n",
    "Si aparece un error, podríamos ejecutar lo siguiente:\n",
    "\n",
    "`$ pip install --trusted-host pypi.org --trusted-host files.pythonhosted.org ipykernel`\n",
    "\n",
    "o bien:\n",
    "\n",
    "`$ pip install --user --trusted-host pypi.org --trusted-host files.pythonhosted.org ipykernel`"
   ]
  },
  {
   "cell_type": "markdown",
   "metadata": {},
   "source": [
    "# Primeros pasos en Python\n",
    "\n",
    "Python permite escribir programas de forma compacta y legible. Los programas escritos en Python suelen ser mucho más cortos que los programas equivalentes en C, C++ o Java, por varias razones:\n",
    "\n",
    "- No es necesario declarar variables ni argumentos.\n",
    "\n",
    "- Los bloques de código se realizan mediante sangría en lugar de corchetes iniciales y finales;\n",
    "\n",
    "- Los tipos de datos de alto nivel permiten expresar operaciones complejas en una sola línea de código;"
   ]
  },
  {
   "cell_type": "code",
   "execution_count": 1,
   "metadata": {},
   "outputs": [
    {
     "name": "stdout",
     "output_type": "stream",
     "text": [
      "Hello world\n"
     ]
    }
   ],
   "source": [
    "a = \"Hello world\" # Variable types or declaration is not necessary\n",
    "\n",
    "print(a)"
   ]
  },
  {
   "cell_type": "code",
   "execution_count": 2,
   "metadata": {},
   "outputs": [
    {
     "name": "stdout",
     "output_type": "stream",
     "text": [
      "0\n",
      "2\n",
      "4\n",
      "6\n",
      "8\n"
     ]
    }
   ],
   "source": [
    "i = 0 # Indentation is used to group scopes\n",
    "while i < 10:\n",
    "    if i % 2 == 0 :\n",
    "        print(i)\n",
    "    i = i + 1\n"
   ]
  },
  {
   "cell_type": "code",
   "execution_count": 3,
   "metadata": {},
   "outputs": [
    {
     "name": "stdout",
     "output_type": "stream",
     "text": [
      "[0, 2, 4, 6, 8]\n",
      "[0, 2, 4, 6, 8]\n"
     ]
    }
   ],
   "source": [
    "result = [x for x in range(10) if x % 2 == 0] # Complex operations can be achieved in one line of code\n",
    "print(result)\n",
    "\n",
    "result = []\n",
    "for x in range(10):\n",
    "    if x % 2 == 0:\n",
    "        result.append(x)\n",
    "print(result)"
   ]
  },
  {
   "cell_type": "markdown",
   "metadata": {},
   "source": [
    "## Operaciones numéricas\n",
    "\n",
    "### Operaciones aritméticas\n",
    "\n",
    "Como en otros lenguajes, podemos utilizar \"+\", \"-\", \"*\", \"**\", \"/\", \"//\", \"%\" para operaciones"
   ]
  },
  {
   "cell_type": "code",
   "execution_count": 14,
   "metadata": {},
   "outputs": [
    {
     "name": "stdout",
     "output_type": "stream",
     "text": [
      "3 <class 'int'>\n",
      "1.5 <class 'float'>\n"
     ]
    }
   ],
   "source": [
    "# Addition and substraction\n",
    "\n",
    "sum = 2 + 1\n",
    "\n",
    "print (sum , type(sum))\n",
    "\n",
    "sum = 2 - 0.5\n",
    "\n",
    "print(sum, type(sum)) # types change dinamically"
   ]
  },
  {
   "cell_type": "code",
   "execution_count": 4,
   "metadata": {},
   "outputs": [
    {
     "name": "stdout",
     "output_type": "stream",
     "text": [
      "20\n",
      "6.5\n",
      "6\n",
      "0\n"
     ]
    }
   ],
   "source": [
    "# Multiplication, division and modulo\n",
    "\n",
    "mul = 5 * 4\n",
    "\n",
    "print(mul)\n",
    "\n",
    "div = 13 / 2\n",
    "\n",
    "print(div)\n",
    "\n",
    "floordiv = 13 // 2 # Floor division truncates the decimal without rounding, and returns an integer result.\n",
    "\n",
    "print(floordiv)\n",
    "\n",
    "mod = 20 % 2\n",
    "\n",
    "print(mod)"
   ]
  },
  {
   "cell_type": "code",
   "execution_count": 28,
   "metadata": {},
   "outputs": [
    {
     "name": "stdout",
     "output_type": "stream",
     "text": [
      "121\n",
      "11.0\n"
     ]
    }
   ],
   "source": [
    "# Powers and roots\n",
    "\n",
    "pow = 11**2\n",
    "\n",
    "print(pow)\n",
    "\n",
    "root = 121**(1/2) # MATH TRICK! Roots are the inverse of power, so powering to the inverse give us the root\n",
    "\n",
    "print(root)"
   ]
  },
  {
   "cell_type": "code",
   "execution_count": 35,
   "metadata": {},
   "outputs": [
    {
     "name": "stdout",
     "output_type": "stream",
     "text": [
      "The retail price is 121.0 €\n"
     ]
    }
   ],
   "source": [
    "# How we calculate the VAT of a product?\n",
    "\n",
    "VAT = 0.21\n",
    "\n",
    "Value = 100\n",
    "\n",
    "Tax = Value * VAT\n",
    "\n",
    "Price = Value + Tax\n",
    "\n",
    "print(\"The retail price is\", Price, \"€\")"
   ]
  }
 ],
 "metadata": {
  "kernelspec": {
   "display_name": "Python 3.10.9 64-bit (microsoft store)",
   "language": "python",
   "name": "python3"
  },
  "language_info": {
   "codemirror_mode": {
    "name": "ipython",
    "version": 3
   },
   "file_extension": ".py",
   "mimetype": "text/x-python",
   "name": "python",
   "nbconvert_exporter": "python",
   "pygments_lexer": "ipython3",
   "version": "3.10.9"
  },
  "orig_nbformat": 4,
  "vscode": {
   "interpreter": {
    "hash": "85aece5883f23cf93a903b25fd3f6a5833dab6da9d10cf403dbbc785be5e4181"
   }
  }
 },
 "nbformat": 4,
 "nbformat_minor": 2
}
