{
 "cells": [
  {
   "cell_type": "markdown",
   "metadata": {},
   "source": [
    "# Funciones\n",
    "\n",
    "En Python, una función es un bloque de código que realiza una tarea específica y puede ser llamado en diferentes partes del programa. \n",
    "\n",
    "Las funciones son útiles porque nos permiten dividir nuestro código en bloques más pequeños y manejables, lo que hace que sea más fácil de leer, depurar y mantener.\n",
    "\n",
    "Para definir una función en Python, utilizamos la palabra clave \"def\" seguida del nombre de la función y una lista de parámetros entre paréntesis. Después, escribimos el código. Aquí hay un ejemplo de cómo se vería la definición de una función que toma dos números como entrada y devuelve su suma:"
   ]
  },
  {
   "cell_type": "code",
   "execution_count": 1,
   "metadata": {},
   "outputs": [],
   "source": [
    "def sum(x, y):\n",
    "    result = x + y\n",
    "    return result"
   ]
  },
  {
   "cell_type": "markdown",
   "metadata": {},
   "source": [
    "Para llamar a esta función en otro lugar de nuestro código, simplemente escribimos su nombre seguido de paréntesis con los argumentos necesarios entre ellos:"
   ]
  },
  {
   "cell_type": "code",
   "execution_count": 2,
   "metadata": {},
   "outputs": [
    {
     "name": "stdout",
     "output_type": "stream",
     "text": [
      "7\n"
     ]
    }
   ],
   "source": [
    "result = sum(3, 4)\n",
    "\n",
    "print(result)  # outputs 7"
   ]
  },
  {
   "cell_type": "markdown",
   "metadata": {},
   "source": [
    "Las funciones también pueden tener un valor predeterminado para algunos o todos sus parámetros. Esto significa que podemos llamar a la función sin proporcionar un valor para ese parámetro, y el valor predeterminado será utilizado en su lugar. Aquí hay un ejemplo de una función que tiene un parámetro predeterminado:"
   ]
  },
  {
   "cell_type": "code",
   "execution_count": 3,
   "metadata": {},
   "outputs": [
    {
     "name": "stdout",
     "output_type": "stream",
     "text": [
      "Hi!, Juan\n",
      "Buenos días, Ana\n"
     ]
    }
   ],
   "source": [
    "def sayHi(name, msg='Hi!'):\n",
    "    print(msg + ', ' + name)\n",
    "\n",
    "sayHi('Juan')  # outputs 'Hi!, Juan'\n",
    "sayHi('Ana', 'Buenos días')  # outputs 'Buenos días, Ana'"
   ]
  },
  {
   "cell_type": "markdown",
   "metadata": {},
   "source": [
    "## Más funciones útiles\n",
    "\n",
    "Como ya hemos visto Python tiene integradas varias funciones que nos hacen el trabajo más fácil, como enumerate o range.\n",
    "\n",
    "Éstas son algunas funciones más:\n",
    "\n",
    "### zip\n",
    "\n",
    "la función zip se utiliza para agrupar elementos de diferentes secuencias en parejas. Por ejemplo, si tenemos dos listas \"a\" y \"b\", podemos usar zip para combinar sus elementos en una lista de tuplas de la siguiente manera:"
   ]
  },
  {
   "cell_type": "code",
   "execution_count": 4,
   "metadata": {},
   "outputs": [
    {
     "name": "stdout",
     "output_type": "stream",
     "text": [
      "[(1, 'a'), (2, 'b'), (3, 'c')]\n"
     ]
    }
   ],
   "source": [
    "a = [1, 2, 3]\n",
    "b = ['a', 'b', 'c']\n",
    "c = list(zip(a, b))\n",
    "print(c)  # [(1, 'a'), (2, 'b'), (3, 'c')]"
   ]
  },
  {
   "cell_type": "markdown",
   "metadata": {},
   "source": [
    "Esto es práctico para recorrer dos listas a la vez, por ejemplo:"
   ]
  },
  {
   "cell_type": "code",
   "execution_count": 5,
   "metadata": {},
   "outputs": [
    {
     "name": "stdout",
     "output_type": "stream",
     "text": [
      "[4, 10, 18]\n"
     ]
    }
   ],
   "source": [
    "a = [1, 2, 3]\n",
    "b = [4, 5, 6]\n",
    "c = []\n",
    "\n",
    "for x, y in zip(a, b): # we get each pair\n",
    "  c.append(x * y)      # multiply it and add it to the list 'c'\n",
    "\n",
    "print(c)  # [4, 10, 18]"
   ]
  },
  {
   "cell_type": "markdown",
   "metadata": {},
   "source": [
    "### min y max\n",
    "\n",
    "Las funciones max y min devuelven el elemento máximo y mínimo de una lista, por ejemplo:"
   ]
  },
  {
   "cell_type": "code",
   "execution_count": 6,
   "metadata": {},
   "outputs": [
    {
     "name": "stdout",
     "output_type": "stream",
     "text": [
      "10 50\n",
      "Carla Walter Smith\n",
      "Juan Walter Smith\n"
     ]
    }
   ],
   "source": [
    "mylist = [10,20,30,40,50]\n",
    "\n",
    "print(min(mylist),max(mylist))\n",
    "\n",
    "mylist = ['Carla', 'Juan', 'Sergio', 'Walter Smith']\n",
    "\n",
    "print(min(mylist),max(mylist))\n",
    "\n",
    "print(min(mylist,key=len),max(mylist,key=len))\n"
   ]
  },
  {
   "cell_type": "markdown",
   "metadata": {},
   "source": [
    "Muchas funciones predefinidas permiten introducir como argumento una función, por ejemplo:"
   ]
  },
  {
   "cell_type": "code",
   "execution_count": 7,
   "metadata": {},
   "outputs": [
    {
     "name": "stdout",
     "output_type": "stream",
     "text": [
      "{'nombre': 'Ana', 'edad': 25}\n",
      "{'nombre': 'Pedro', 'edad': 65}\n"
     ]
    }
   ],
   "source": [
    "def age(person):\n",
    "  return person['edad']\n",
    "\n",
    "people = [{'nombre': 'Juan', 'edad': 30},\n",
    "            {'nombre': 'Ana', 'edad': 25},\n",
    "            {'nombre': 'Pedro', 'edad': 65}]\n",
    "\n",
    "younger = min(people, key=age)\n",
    "print(younger)  # {'nombre': 'Ana', 'edad': 25}\n",
    "\n",
    "older = max(people, key=age)\n",
    "print(older)  # {'nombre': 'Pedro', 'edad': 65}"
   ]
  },
  {
   "cell_type": "markdown",
   "metadata": {},
   "source": [
    "Además podemos usar funciones lambda, por ejemplo:"
   ]
  },
  {
   "cell_type": "code",
   "execution_count": 8,
   "metadata": {},
   "outputs": [
    {
     "name": "stdout",
     "output_type": "stream",
     "text": [
      "{'nombre': 'Ana', 'edad': 25}\n",
      "{'nombre': 'Pedro', 'edad': 65}\n"
     ]
    }
   ],
   "source": [
    "younger = min(people, key=lambda person: person['edad'])\n",
    "print(younger)  # {'nombre': 'Ana', 'edad': 25}\n",
    "\n",
    "older = max(people, key=lambda person: person['edad'])\n",
    "print(older)  # {'nombre': 'Pedro', 'edad': 65}"
   ]
  },
  {
   "cell_type": "markdown",
   "metadata": {},
   "source": [
    "## Valores de retorno\n",
    "\n",
    "Una función puede devolver un valor al terminar la misma, por ejemplo:"
   ]
  },
  {
   "cell_type": "code",
   "execution_count": 9,
   "metadata": {},
   "outputs": [
    {
     "name": "stdout",
     "output_type": "stream",
     "text": [
      "[-10, -20, -30, -40, -50]\n"
     ]
    }
   ],
   "source": [
    "mylist = [10,20,30,40,50]\n",
    "\n",
    "def negative(listofnumbers):\n",
    "    listnegative = []\n",
    "    for number in listofnumbers:\n",
    "        listnegative.append(-number)\n",
    "    return listnegative\n",
    "\n",
    "print(negative(mylist))"
   ]
  },
  {
   "cell_type": "markdown",
   "metadata": {},
   "source": [
    "Una función en Python solo puede devolver un único elemento, al igual que en otros lenguajes, sin embargo, con la técnica \"unpacking\" podemos solventar esta limitación. Por ejemplo:"
   ]
  },
  {
   "cell_type": "code",
   "execution_count": 10,
   "metadata": {},
   "outputs": [
    {
     "name": "stdout",
     "output_type": "stream",
     "text": [
      "-10 -20\n"
     ]
    }
   ],
   "source": [
    "first, second, *_ = negative(mylist) # The operator *_ is used when unpacking returns more values than variables\n",
    "\n",
    "print(first, second)"
   ]
  },
  {
   "cell_type": "markdown",
   "metadata": {},
   "source": [
    "También podemos definir una función para recibir una cantidad arbitraria de argumentos, por ejemplo:"
   ]
  },
  {
   "cell_type": "code",
   "execution_count": 11,
   "metadata": {},
   "outputs": [
    {
     "name": "stdout",
     "output_type": "stream",
     "text": [
      "['earth', 'mars', 'venus']\n",
      "earth/mars/venus\n",
      "earth.mars.venus\n"
     ]
    }
   ],
   "source": [
    "def printAll(*args):\n",
    "    listWords = []\n",
    "    for arg in args:\n",
    "        listWords.append(arg)\n",
    "    #print(*listWords) # unpacked\n",
    "    print(listWords)   #packed\n",
    "\n",
    "\n",
    "def concat(*args, sep=\"/\"):\n",
    "    return sep.join(args)\n",
    "\n",
    "printAll(\"earth\", \"mars\", \"venus\")\n",
    "\n",
    "print(concat(\"earth\", \"mars\", \"venus\"))\n",
    "\n",
    "print(concat(\"earth\", \"mars\", \"venus\", sep=\".\"))"
   ]
  },
  {
   "cell_type": "markdown",
   "metadata": {},
   "source": [
    "## Ámbito y variables globales\n",
    "\n",
    "En Python, el ámbito de una variable se refiere al alcance o al lugar donde una variable es válida y puede ser accedida. Por defecto, las variables definidas dentro de una función sólo son accesibles dentro de esa función, y no pueden ser accedidas desde el ámbito global o desde otras funciones. Esto se conoce como el ámbito local de la función.\n",
    "\n",
    "Las variables definidas en el ámbito global, es decir, fuera de cualquier función, son accesibles desde cualquier parte del código, incluyendo desde el interior de las funciones. Estas variables se conocen como variables globales."
   ]
  },
  {
   "cell_type": "code",
   "execution_count": 12,
   "metadata": {},
   "outputs": [
    {
     "name": "stdout",
     "output_type": "stream",
     "text": [
      "30\n",
      "20\n",
      "10\n"
     ]
    },
    {
     "ename": "NameError",
     "evalue": "name 'local_var' is not defined",
     "output_type": "error",
     "traceback": [
      "\u001b[1;31m---------------------------------------------------------------------------\u001b[0m",
      "\u001b[1;31mNameError\u001b[0m                                 Traceback (most recent call last)",
      "Cell \u001b[1;32mIn[12], line 13\u001b[0m\n\u001b[0;32m     11\u001b[0m foo()\n\u001b[0;32m     12\u001b[0m \u001b[39mprint\u001b[39m(global_var)  \u001b[39m# 10     # but outside it remains the same\u001b[39;00m\n\u001b[1;32m---> 13\u001b[0m \u001b[39mprint\u001b[39m(local_var)  \u001b[39m# NameError\u001b[39;00m\n",
      "\u001b[1;31mNameError\u001b[0m: name 'local_var' is not defined"
     ]
    }
   ],
   "source": [
    "# This is a global variable\n",
    "global_var = 10\n",
    "\n",
    "def foo():\n",
    "  # this is a local variable\n",
    "  local_var = 20\n",
    "  global_var = 30           # let us change the global var\n",
    "  print(global_var)  # 30\n",
    "  print(local_var)  # 20\n",
    "\n",
    "foo()\n",
    "print(global_var)  # 10     # but outside it remains the same\n",
    "print(local_var)  # NameError"
   ]
  },
  {
   "cell_type": "markdown",
   "metadata": {},
   "source": [
    "## Ejemplo de uso de funciones para organizar código\n",
    "\n",
    "Por ejemplo, queremos realizar un programa que se encargue de la gestión del alumnado."
   ]
  },
  {
   "cell_type": "code",
   "execution_count": null,
   "metadata": {},
   "outputs": [],
   "source": [
    "# We create the list of alumns\n",
    "\n",
    "alumnos = []\n",
    "\n",
    "#Then, we create the functions\n",
    "\n",
    "def agregar_alumno(nombre, edad):\n",
    "  alumnos.append({'nombre': nombre, 'edad': edad})\n",
    "\n",
    "def listar_alumnos():\n",
    "  for alumno in alumnos:\n",
    "    print(f'{alumno[\"nombre\"]} ({alumno[\"edad\"]} años)')\n",
    "\n",
    "def promedio_edad():\n",
    "  total_edad = 0\n",
    "  for alumno in alumnos:\n",
    "    total_edad += alumno['edad']\n",
    "  return total_edad / len(alumnos)"
   ]
  },
  {
   "cell_type": "markdown",
   "metadata": {},
   "source": [
    "Una vez definidas las funciones, ya podemos hacer uso de las funciones cuando las necesitemos, vamos a crear varios alumnos:"
   ]
  },
  {
   "cell_type": "code",
   "execution_count": null,
   "metadata": {},
   "outputs": [
    {
     "name": "stdout",
     "output_type": "stream",
     "text": [
      "Juan (25 años)\n",
      "Ana (22 años)\n",
      "Pedro (30 años)\n"
     ]
    }
   ],
   "source": [
    "\n",
    "agregar_alumno('Juan', 25)\n",
    "agregar_alumno('Ana', 22)\n",
    "agregar_alumno('Pedro', 30)\n",
    "\n",
    "#check we have added them:\n",
    "\n",
    "listar_alumnos()"
   ]
  },
  {
   "cell_type": "markdown",
   "metadata": {},
   "source": [
    "Ahora podemos ver el promedio de edad:"
   ]
  },
  {
   "cell_type": "code",
   "execution_count": null,
   "metadata": {},
   "outputs": [
    {
     "name": "stdout",
     "output_type": "stream",
     "text": [
      "La edad media es: 25.666666666666668\n",
      "La edad media es: 25.67\n"
     ]
    }
   ],
   "source": [
    "print(\"La edad media es:\", promedio_edad())\n",
    "\n",
    "\n",
    "print(\"La edad media es:\", round(promedio_edad(),2))"
   ]
  }
 ],
 "metadata": {
  "kernelspec": {
   "display_name": "Python 3.10.9 64-bit (microsoft store)",
   "language": "python",
   "name": "python3"
  },
  "language_info": {
   "codemirror_mode": {
    "name": "ipython",
    "version": 3
   },
   "file_extension": ".py",
   "mimetype": "text/x-python",
   "name": "python",
   "nbconvert_exporter": "python",
   "pygments_lexer": "ipython3",
   "version": "3.10.9"
  },
  "orig_nbformat": 4,
  "vscode": {
   "interpreter": {
    "hash": "85aece5883f23cf93a903b25fd3f6a5833dab6da9d10cf403dbbc785be5e4181"
   }
  }
 },
 "nbformat": 4,
 "nbformat_minor": 2
}
