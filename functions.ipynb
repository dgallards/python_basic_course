{
 "cells": [
  {
   "cell_type": "markdown",
   "metadata": {},
   "source": [
    "# Funciones\n",
    "\n",
    "En Python, una función es un bloque de código que realiza una tarea específica y puede ser llamado en diferentes partes del programa. \n",
    "\n",
    "Las funciones son útiles porque nos permiten dividir nuestro código en bloques más pequeños y manejables, lo que hace que sea más fácil de leer, depurar y mantener.\n",
    "\n",
    "Para definir una función en Python, utilizamos la palabra clave \"def\" seguida del nombre de la función y una lista de parámetros entre paréntesis. Después, escribimos el código. Aquí hay un ejemplo de cómo se vería la definición de una función que toma dos números como entrada y devuelve su suma:"
   ]
  },
  {
   "cell_type": "code",
   "execution_count": 3,
   "metadata": {},
   "outputs": [],
   "source": [
    "def sum(x, y):\n",
    "    result = x + y\n",
    "    return result"
   ]
  },
  {
   "cell_type": "markdown",
   "metadata": {},
   "source": [
    "Para llamar a esta función en otro lugar de nuestro código, simplemente escribimos su nombre seguido de paréntesis con los argumentos necesarios entre ellos:"
   ]
  },
  {
   "cell_type": "code",
   "execution_count": 5,
   "metadata": {},
   "outputs": [
    {
     "name": "stdout",
     "output_type": "stream",
     "text": [
      "7\n"
     ]
    }
   ],
   "source": [
    "result = sum(3, 4)\n",
    "\n",
    "print(result)  # imprime 7"
   ]
  },
  {
   "cell_type": "markdown",
   "metadata": {},
   "source": [
    "Las funciones también pueden tener un valor predeterminado para algunos o todos sus parámetros. Esto significa que podemos llamar a la función sin proporcionar un valor para ese parámetro, y el valor predeterminado será utilizado en su lugar. Aquí hay un ejemplo de una función que tiene un parámetro predeterminado:"
   ]
  },
  {
   "cell_type": "code",
   "execution_count": 6,
   "metadata": {},
   "outputs": [
    {
     "name": "stdout",
     "output_type": "stream",
     "text": [
      "Hi!, Juan\n",
      "Buenos días, Ana\n"
     ]
    }
   ],
   "source": [
    "def sayHi(name, msg='Hi!'):\n",
    "    print(msg + ', ' + name)\n",
    "\n",
    "sayHi('Juan')  # outputs 'Hi!, Juan'\n",
    "sayHi('Ana', 'Buenos días')  # outputs 'Buenos días, Ana'"
   ]
  }
 ],
 "metadata": {
  "kernelspec": {
   "display_name": "Python 3.10.9 64-bit (microsoft store)",
   "language": "python",
   "name": "python3"
  },
  "language_info": {
   "codemirror_mode": {
    "name": "ipython",
    "version": 3
   },
   "file_extension": ".py",
   "mimetype": "text/x-python",
   "name": "python",
   "nbconvert_exporter": "python",
   "pygments_lexer": "ipython3",
   "version": "3.10.9"
  },
  "orig_nbformat": 4,
  "vscode": {
   "interpreter": {
    "hash": "85aece5883f23cf93a903b25fd3f6a5833dab6da9d10cf403dbbc785be5e4181"
   }
  }
 },
 "nbformat": 4,
 "nbformat_minor": 2
}
