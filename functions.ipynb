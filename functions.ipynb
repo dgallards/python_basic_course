{
 "cells": [
  {
   "cell_type": "code",
   "execution_count": null,
   "metadata": {},
   "outputs": [],
   "source": [
    "# Funciones\n",
    "\n",
    "En Python, una función es un bloque de código que realiza una tarea específica y puede ser llamado repetidamente en diferentes partes del programa. Las funciones son útiles porque nos permiten dividir nuestro código en bloques más pequeños y manejables, lo que hace que sea más fácil de leer, depurar y mantener.\n",
    "\n",
    "Para definir una función en Python, utilizamos la palabra clave def seguida del nombre de la función y una lista de parámetros entre paréntesis. Después, escribimos el código de la función entre dos líneas de return. Aquí hay un ejemplo de cómo se vería la definición de una función que toma dos números como entrada y devuelve su suma:"
   ]
  }
 ],
 "metadata": {
  "kernelspec": {
   "display_name": "Python 3.10.9 64-bit (microsoft store)",
   "language": "python",
   "name": "python3"
  },
  "language_info": {
   "name": "python",
   "version": "3.10.9"
  },
  "orig_nbformat": 4,
  "vscode": {
   "interpreter": {
    "hash": "85aece5883f23cf93a903b25fd3f6a5833dab6da9d10cf403dbbc785be5e4181"
   }
  }
 },
 "nbformat": 4,
 "nbformat_minor": 2
}
