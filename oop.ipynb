{
 "cells": [
  {
   "cell_type": "markdown",
   "metadata": {},
   "source": [
    "# Programación orientada a objetos\n",
    "\n",
    "La programación orientada a objetos (POO, por sus siglas en inglés, \"object-oriented programming\" o OOP) es un paradigma de programación que se basa en la idea de \"objetos\", que son entidades que combinan datos y comportamiento. Los objetos se pueden interactuar entre sí a través de mensajes que se envían entre ellos.\n",
    "\n",
    "En Python, todo es un objeto y se pueden utilizar técnicas de POO de manera natural. Para crear una clase (que es un modelo para crear objetos), se utiliza la palabra clave \"class\" seguida del nombre de la clase y una serie de paréntesis que pueden incluir una clase base de la que heredar. Por ejemplo:"
   ]
  },
  {
   "cell_type": "code",
   "execution_count": 1,
   "metadata": {},
   "outputs": [],
   "source": [
    "class MiClase:\n",
    "\n",
    "    def __init__(self):\n",
    "        pass # Constructor"
   ]
  },
  {
   "cell_type": "markdown",
   "metadata": {},
   "source": [
    "Podemos añadir variables o más funciones a la clase, Por ejemplo:"
   ]
  },
  {
   "cell_type": "code",
   "execution_count": 2,
   "metadata": {},
   "outputs": [],
   "source": [
    "class MiClase:\n",
    "    nombre = None\n",
    "    def __init__(self, nombre): # Constructor\n",
    "        self.nombre = nombre\n",
    "    def saludar(self):          # Metodo\n",
    "        print(\"Hola, mi nombre es %s\" % self.nombre)"
   ]
  },
  {
   "cell_type": "markdown",
   "metadata": {},
   "source": [
    "El método __init__ es un método especial en Python que se llama cuando se crea una nueva instancia de la clase. Es equivalente al constructor en otros lenguajes.\n",
    "\n",
    "Para crear una instancia de una clase, se utiliza el nombre de la clase seguido de paréntesis que incluyen cualquier argumento necesario para el método __init__. Por ejemplo:"
   ]
  },
  {
   "cell_type": "code",
   "execution_count": 3,
   "metadata": {},
   "outputs": [
    {
     "name": "stdout",
     "output_type": "stream",
     "text": [
      "Hola, mi nombre es Juan\n"
     ]
    }
   ],
   "source": [
    "mi_objeto = MiClase(\"Juan\")\n",
    "\n",
    "mi_objeto.saludar()"
   ]
  },
  {
   "cell_type": "markdown",
   "metadata": {},
   "source": [
    "### Herencia\n",
    "\n",
    "La POO también permite la herencia, que es la capacidad de crear una clase nueva a partir de otra clase existente. La clase nueva hereda todos los atributos y métodos de la clase base, y luego puede tener sus propios atributos y métodos adicionales. Por ejemplo:"
   ]
  },
  {
   "cell_type": "code",
   "execution_count": 35,
   "metadata": {},
   "outputs": [
    {
     "name": "stdout",
     "output_type": "stream",
     "text": [
      "Diego 24 Ingeniería informática\n",
      "Hola, mi nombre es Diego y tengo 24 años\n"
     ]
    }
   ],
   "source": [
    "class Persona:\n",
    "    def __init__(self, nombre, edad):\n",
    "        self.nombre = nombre\n",
    "        self.edad = edad\n",
    "    \n",
    "    def saludar(self):\n",
    "        print(\"Hola, mi nombre es %s y tengo %d años\" % (self.nombre, self.edad))\n",
    "\n",
    "class Estudiante(Persona):\n",
    "    def __init__(self, nombre, edad, carrera):\n",
    "        super().__init__(nombre,edad)\n",
    "        self.carrera = carrera\n",
    "        \n",
    "\n",
    "alumno = Estudiante(\"Diego\",24,\"Ingeniería informática\")\n",
    "\n",
    "print(alumno.nombre, alumno.edad, alumno.carrera)\n",
    "\n",
    "alumno.saludar()"
   ]
  },
  {
   "cell_type": "markdown",
   "metadata": {},
   "source": [
    "### Polimorfirmo\n",
    "\n",
    "En Python, el polimorfismo se refiere a la forma en que distintas clases de objetos pueden compartir el mismo nombre de método, y esos métodos pueden ser llamados desde el mismo lugar, aunque sean pasados objetos de distintos tipos. La mejor manera de explicar esto es con un ejemplo:"
   ]
  },
  {
   "cell_type": "code",
   "execution_count": 24,
   "metadata": {},
   "outputs": [
    {
     "name": "stdout",
     "output_type": "stream",
     "text": [
      "Guau guau!\n",
      "Miau miau!\n"
     ]
    }
   ],
   "source": [
    "class Perro(object):\n",
    "    def ladrar(self):\n",
    "        print(\"Guau guau!\")\n",
    "\n",
    "class Gato(object):\n",
    "    def ladrar(self):\n",
    "        print(\"Miau miau!\")\n",
    "\n",
    "perro = Perro()\n",
    "gato = Gato()\n",
    "\n",
    "def hacer_ladrar(animal):\n",
    "    animal.ladrar()\n",
    "\n",
    "hacer_ladrar(perro)  # Imprime \"Guau guau!\"\n",
    "hacer_ladrar(gato)  # Imprime \"Miau miau!\""
   ]
  },
  {
   "cell_type": "markdown",
   "metadata": {},
   "source": [
    "### Métodos especiales\n",
    "Los métodos especiales son aquellos métodos en Python que tienen un nombre que comienza y termina con dobles guiones bajos (por ejemplo, __init__). Estos métodos tienen un significado especial en el lenguaje y se utilizan para realizar tareas especiales.\n",
    "\n",
    "A continuación, te menciono algunos de los métodos especiales más comunes y cómo podrían usarse en una clase \"Coche\":"
   ]
  },
  {
   "cell_type": "code",
   "execution_count": 25,
   "metadata": {},
   "outputs": [],
   "source": [
    "class Coche(object):\n",
    "    def __init__(self, marca, modelo, año):\n",
    "        self.marca = marca\n",
    "        self.modelo = modelo\n",
    "        self.año = año"
   ]
  },
  {
   "cell_type": "markdown",
   "metadata": {},
   "source": [
    "__str__: Este método se llama cuando se intenta convertir la instancia de la clase a una cadena de texto (por ejemplo, usando la función str() o al imprimirla directamente). Se puede utilizar para devolver una representación legible del objeto como una cadena de texto. Por ejemplo:"
   ]
  },
  {
   "cell_type": "code",
   "execution_count": 26,
   "metadata": {},
   "outputs": [],
   "source": [
    "class Coche(object):\n",
    "    \n",
    "    def __str__(self):\n",
    "        return \"Coche: marca=%s, modelo=%s, año=%d\" % (self.marca, self.modelo, self.año)\n"
   ]
  },
  {
   "cell_type": "markdown",
   "metadata": {},
   "source": [
    "__eq__: Este método se llama cuando se usa el operador de igualdad (==) para comparar dos instancias de la clase. Se puede utilizar para determinar si dos objetos son iguales o no. Por ejemplo:"
   ]
  },
  {
   "cell_type": "code",
   "execution_count": 27,
   "metadata": {},
   "outputs": [],
   "source": [
    "class Coche(object):\n",
    "    \n",
    "    def __eq__(self, otro):\n",
    "        return self.marca == otro.marca and self.modelo == otro.modelo and self.año == otro.año"
   ]
  },
  {
   "cell_type": "markdown",
   "metadata": {},
   "source": [
    "__len__: Este método se llama cuando se usa la función len() sobre la instancia de la clase. Se puede utilizar para devolver la longitud de la instancia de alguna manera (por ejemplo, el número de elementos en una lista que contiene la instancia). Por ejemplo:"
   ]
  },
  {
   "cell_type": "code",
   "execution_count": 28,
   "metadata": {},
   "outputs": [],
   "source": [
    "class Coche(object):\n",
    "    \n",
    "    def __len__(self):\n",
    "        return len(self.opciones)"
   ]
  },
  {
   "cell_type": "markdown",
   "metadata": {},
   "source": [
    "Estos son algunos de los métodos especiales más comunes en Python, pero hay muchos más disponibles. Puedes encontrar más información sobre ellos en la documentación de Python: https://docs.python.org/3/reference/datamodel.html#special-method-names\n",
    "\n",
    "Aquí vemos como podrían usarse los métodos anteriores:"
   ]
  },
  {
   "cell_type": "code",
   "execution_count": 4,
   "metadata": {},
   "outputs": [],
   "source": [
    "class Coche(object):\n",
    "    def __init__(self, marca, modelo, año, opciones):\n",
    "        self.marca = marca\n",
    "        self.modelo = modelo\n",
    "        self.año = año\n",
    "        self.opciones = opciones\n",
    "    \n",
    "    def __eq__(self, otro):\n",
    "        return self.marca == otro.marca and self.modelo == otro.modelo and self.año == otro.año\n",
    "\n",
    "    def __str__(self):\n",
    "        return \"Coche: marca=%s, modelo=%s, año=%d\" % (self.marca, self.modelo, self.año)\n",
    "\n",
    "    def __len__(self):\n",
    "        return len(self.opciones)"
   ]
  },
  {
   "cell_type": "code",
   "execution_count": 5,
   "metadata": {},
   "outputs": [
    {
     "name": "stdout",
     "output_type": "stream",
     "text": [
      "Coche: marca=Peugeot, modelo=306, año=2001\n",
      "False\n",
      "True\n",
      "3\n"
     ]
    }
   ],
   "source": [
    "coche1 = Coche(\"Peugeot\",\"306\",2001,[\"Aire Acondicionado\",\"Elevalunas eléctrico\", \"Cierre centralizado\"])\n",
    "coche2 = Coche(\"Ford\",\"Sierra\",1998,[\"Aire Acondicionado\",\"Turbo\", \"Cierre centralizado\"])\n",
    "coche3 = Coche(\"Peugeot\",\"306\",2001,[\"Aire Acondicionado\"])\n",
    "\n",
    "print(coche1)\n",
    "\n",
    "print(coche1 == coche2)\n",
    "\n",
    "print(coche1 == coche3)\n",
    "\n",
    "print(len(coche2))"
   ]
  }
 ],
 "metadata": {
  "kernelspec": {
   "display_name": "Python 3.10.9 64-bit (microsoft store)",
   "language": "python",
   "name": "python3"
  },
  "language_info": {
   "codemirror_mode": {
    "name": "ipython",
    "version": 3
   },
   "file_extension": ".py",
   "mimetype": "text/x-python",
   "name": "python",
   "nbconvert_exporter": "python",
   "pygments_lexer": "ipython3",
   "version": "3.10.9"
  },
  "orig_nbformat": 4,
  "vscode": {
   "interpreter": {
    "hash": "85aece5883f23cf93a903b25fd3f6a5833dab6da9d10cf403dbbc785be5e4181"
   }
  }
 },
 "nbformat": 4,
 "nbformat_minor": 2
}
