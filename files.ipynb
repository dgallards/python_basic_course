{
 "cells": [
  {
   "cell_type": "markdown",
   "metadata": {},
   "source": [
    "# Trabajar con archivos\n",
    "\n",
    "Para trabajar con archivos en Python, primero debes abrir el archivo en modo lectura o escritura. Puedes hacerlo usando la función open() de Python.\n",
    "\n",
    "A continuación se muestra un ejemplo de cómo abrir un archivo para leer su contenido:"
   ]
  },
  {
   "cell_type": "code",
   "execution_count": 6,
   "metadata": {},
   "outputs": [
    {
     "name": "stdout",
     "output_type": "stream",
     "text": [
      "{\n",
      "  \"Employees\": [\n",
      "    {\n",
      "      \"userId\": \"krish\",\n",
      "      \"jobTitle\": \"Developer\",\n",
      "      \"firstName\": \"Krish\",\n",
      "      \"lastName\": \"Lee\",\n",
      "      \"employeeCode\": \"E1\",\n",
      "      \"region\": \"CA\",\n",
      "      \"phoneNumber\": \"788456123\",\n",
      "      \"emailAddress\": \"krish.lee@examplepython.com\"\n",
      "    },\n",
      "   \n"
     ]
    }
   ],
   "source": [
    "with open('resources/employee-data.json', 'r') as f:\n",
    "    contenido = f.read(280)\n",
    "    print(contenido)"
   ]
  },
  {
   "cell_type": "markdown",
   "metadata": {},
   "source": [
    "Para escribir en un archivo, puedes usar el modo escritura ('w'). Por ejemplo:"
   ]
  },
  {
   "cell_type": "code",
   "execution_count": 7,
   "metadata": {},
   "outputs": [],
   "source": [
    "with open('archivo.txt', 'w') as f:\n",
    "    f.write('Hola, mundo!')"
   ]
  },
  {
   "cell_type": "markdown",
   "metadata": {},
   "source": [
    "Para navegar entre los archivos de nuestra carpeta haremos uso de la librería \"os\" que usaremos como interfaz entre el sistema operativo y Python"
   ]
  },
  {
   "cell_type": "code",
   "execution_count": 8,
   "metadata": {},
   "outputs": [
    {
     "name": "stdout",
     "output_type": "stream",
     "text": [
      "['.git', '.gitignore', 'archivo.txt', 'control_structures.ipynb', 'files.ipynb', 'functions.ipynb', 'introduction.ipynb', 'oop.ipynb', 'README.md', 'resources']\n"
     ]
    }
   ],
   "source": [
    "import os\n",
    "\n",
    "# Listar los archivos en el directorio actual\n",
    "archivos = os.listdir('.')\n",
    "print(archivos)"
   ]
  },
  {
   "cell_type": "markdown",
   "metadata": {},
   "source": [
    "Para renombrar un archivo:"
   ]
  },
  {
   "cell_type": "code",
   "execution_count": 9,
   "metadata": {},
   "outputs": [],
   "source": [
    "import os\n",
    "\n",
    "os.rename(\"archivo.txt\",\"newArchivo.txt\")"
   ]
  },
  {
   "cell_type": "markdown",
   "metadata": {},
   "source": [
    "O por ejemplo, para borrar un archivo:"
   ]
  },
  {
   "cell_type": "code",
   "execution_count": 10,
   "metadata": {},
   "outputs": [],
   "source": [
    "import os\n",
    "\n",
    "# Eliminar el archivo 'archivo.txt'\n",
    "os.remove('newarchivo.txt')"
   ]
  },
  {
   "cell_type": "markdown",
   "metadata": {},
   "source": [
    "### Excepciones\n",
    "Es importante saber que el manejo de estas funciones debe ser controlado metódicamente ya que, por ejemplo, si intentamos borrar un archivo que no existe nos lanzará una excepción:"
   ]
  },
  {
   "cell_type": "code",
   "execution_count": 11,
   "metadata": {},
   "outputs": [
    {
     "ename": "FileNotFoundError",
     "evalue": "[WinError 2] El sistema no puede encontrar el archivo especificado: 'newarchivo.txt'",
     "output_type": "error",
     "traceback": [
      "\u001b[1;31m---------------------------------------------------------------------------\u001b[0m",
      "\u001b[1;31mFileNotFoundError\u001b[0m                         Traceback (most recent call last)",
      "Cell \u001b[1;32mIn[11], line 4\u001b[0m\n\u001b[0;32m      1\u001b[0m \u001b[39mimport\u001b[39;00m \u001b[39mos\u001b[39;00m\n\u001b[0;32m      3\u001b[0m \u001b[39m# Eliminar el archivo 'archivo.txt'\u001b[39;00m\n\u001b[1;32m----> 4\u001b[0m os\u001b[39m.\u001b[39;49mremove(\u001b[39m'\u001b[39;49m\u001b[39mnewarchivo.txt\u001b[39;49m\u001b[39m'\u001b[39;49m)\n",
      "\u001b[1;31mFileNotFoundError\u001b[0m: [WinError 2] El sistema no puede encontrar el archivo especificado: 'newarchivo.txt'"
     ]
    }
   ],
   "source": [
    "import os\n",
    "\n",
    "# Eliminar el archivo 'archivo.txt'\n",
    "os.remove('newarchivo.txt')"
   ]
  },
  {
   "cell_type": "markdown",
   "metadata": {},
   "source": [
    "Para controlar ésta excepción podemos utilizar los bloques try-except:"
   ]
  },
  {
   "cell_type": "code",
   "execution_count": 12,
   "metadata": {},
   "outputs": [
    {
     "name": "stdout",
     "output_type": "stream",
     "text": [
      "Mensaje de error: El sistema no puede encontrar el archivo especificado\n",
      "El error pertenece a la clase <slot wrapper '__str__' of 'OSError' objects>\n",
      "Tipo de excepción: FileNotFoundError\n",
      "Traza del error: <traceback object at 0x0000024A5FB4E100>\n"
     ]
    }
   ],
   "source": [
    "import os\n",
    "\n",
    "try:\n",
    "\n",
    "    # Eliminar el archivo 'archivo.txt'\n",
    "    os.remove('archivo.txt')\n",
    "\n",
    "except Exception as e:\n",
    "    print(\"Mensaje de error:\", e.strerror)\n",
    "    print(\"El error pertenece a la clase\", e.__class__.__str__)\n",
    "    print(\"Tipo de excepción:\", e.__class__.__name__)\n",
    "    print(\"Traza del error:\", e.__traceback__)"
   ]
  },
  {
   "cell_type": "markdown",
   "metadata": {},
   "source": [
    "Como se puede observar el manejo de errores se realiza igual que en otros lenguajes de programación."
   ]
  },
  {
   "cell_type": "markdown",
   "metadata": {},
   "source": [
    "## Manejo de cadenas\n",
    "\n",
    "Las cadenas de caracteres en Python también son muy parecidas al resto de lenguajes de programación.\n",
    "\n",
    "Algunas operaciones y métodos comunes para manipular cadenas en Python son:"
   ]
  },
  {
   "cell_type": "code",
   "execution_count": 13,
   "metadata": {},
   "outputs": [
    {
     "name": "stdout",
     "output_type": "stream",
     "text": [
      "Hola Mundo\n"
     ]
    }
   ],
   "source": [
    "cadena1 = \"Hola\"\n",
    "cadena2 = \"Mundo\"\n",
    "cadena3 = cadena1 + \" \" + cadena2\n",
    "print(cadena3)  # imprime \"Hola Mundo\""
   ]
  },
  {
   "cell_type": "markdown",
   "metadata": {},
   "source": [
    "Repetición de cadenas:"
   ]
  },
  {
   "cell_type": "code",
   "execution_count": 14,
   "metadata": {},
   "outputs": [
    {
     "name": "stdout",
     "output_type": "stream",
     "text": [
      "Hola Hola Hola \n"
     ]
    }
   ],
   "source": [
    "cadena = \"Hola \"\n",
    "cadena_repetida = cadena * 3\n",
    "print(cadena_repetida)  # imprime \"Hola Hola Hola \""
   ]
  },
  {
   "cell_type": "markdown",
   "metadata": {},
   "source": [
    "Acceso a caracteres:"
   ]
  },
  {
   "cell_type": "code",
   "execution_count": 15,
   "metadata": {},
   "outputs": [],
   "source": [
    "cadena = \"Hola mundo\"\n",
    "\n",
    "primer_caracter = cadena[0]"
   ]
  },
  {
   "cell_type": "markdown",
   "metadata": {},
   "source": [
    "Slicing:"
   ]
  },
  {
   "cell_type": "code",
   "execution_count": 16,
   "metadata": {},
   "outputs": [],
   "source": [
    "cadena = \"Hola Mundo\"\n",
    "subcadena = cadena[3:7]  # \"a Mu\"\n",
    "subcadena = cadena[:6]   # \"Hola M\""
   ]
  },
  {
   "cell_type": "markdown",
   "metadata": {},
   "source": [
    "Tambien podemos hacer uso de las funciones integradas de Python para el manejo de cadenas, como por ejemplo:"
   ]
  },
  {
   "cell_type": "code",
   "execution_count": 17,
   "metadata": {},
   "outputs": [
    {
     "name": "stdout",
     "output_type": "stream",
     "text": [
      "HOLA MUNDO\n",
      "hola mundo\n",
      "['Hola', 'Mundo']\n",
      "Hala Munda\n"
     ]
    }
   ],
   "source": [
    "cadena = \"Hola Mundo\"\n",
    "\n",
    "print(cadena.upper())\n",
    "\n",
    "print(cadena.lower())\n",
    "\n",
    "print(cadena.split(\" \"))\n",
    "\n",
    "print(cadena.replace(\"o\",\"a\"))"
   ]
  },
  {
   "cell_type": "markdown",
   "metadata": {},
   "source": [
    "También podemos hacer uso de expresiones regulares para encontrar patrones, por ejemplo:"
   ]
  },
  {
   "cell_type": "code",
   "execution_count": 18,
   "metadata": {},
   "outputs": [
    {
     "name": "stdout",
     "output_type": "stream",
     "text": [
      "juan@gmail.com\n"
     ]
    }
   ],
   "source": [
    "import re\n",
    "\n",
    "# Cadena de texto donde se va a buscar el patrón\n",
    "cadena = \"Hola, mi nombre es Juan y mi correo es juan@gmail.com\"\n",
    "\n",
    "# Patrón a buscar en la cadena de texto\n",
    "patron = r\"[a-zA-Z0-9._%+-]+@[a-zA-Z0-9.-]+\\.[a-zA-Z]{2,}\"\n",
    "\n",
    "# Buscar el patrón en la cadena de texto\n",
    "resultado = re.search(patron, cadena)\n",
    "\n",
    "if resultado:\n",
    "    # Imprimir el patrón encontrado\n",
    "    print(resultado.group())\n",
    "else:\n",
    "    print(\"Patrón no encontrado\")"
   ]
  },
  {
   "cell_type": "markdown",
   "metadata": {},
   "source": [
    "Si hubiera varios correos:"
   ]
  },
  {
   "cell_type": "code",
   "execution_count": 19,
   "metadata": {},
   "outputs": [
    {
     "name": "stdout",
     "output_type": "stream",
     "text": [
      "juan@gmail.com\n",
      "juan.perez@outlook.com\n"
     ]
    }
   ],
   "source": [
    "import re\n",
    "\n",
    "# Cadena de texto donde se van a buscar los patrones\n",
    "cadena = \"Hola, mi nombre es Juan y mi correo es juan@gmail.com. También tengo una dirección alternativa en juan.perez@outlook.com\"\n",
    "\n",
    "# Patrón a buscar en la cadena de texto\n",
    "patron = r\"[a-zA-Z0-9._%+-]+@[a-zA-Z0-9.-]+\\.[a-zA-Z]{2,}\"\n",
    "\n",
    "# Buscar todas las ocurrencias del patrón en la cadena de texto\n",
    "resultados = re.finditer(patron, cadena)\n",
    "\n",
    "# Imprimir todos los patrones encontrados\n",
    "for resultado in resultados:\n",
    "    print(resultado.group())"
   ]
  },
  {
   "cell_type": "markdown",
   "metadata": {},
   "source": [
    "## Listas y diccionarios\n",
    "\n",
    "Las listas y los diccionarios son estructuras de datos muy útiles en Python que pueden ayudarte a organizar y almacenar información de manera eficiente.\n",
    "\n",
    "Una lista es una secuencia ordenada de elementos. Puedes crear una lista en Python utilizando corchetes y separando cada elemento con una coma. Por ejemplo:"
   ]
  },
  {
   "cell_type": "code",
   "execution_count": 20,
   "metadata": {},
   "outputs": [
    {
     "name": "stdout",
     "output_type": "stream",
     "text": [
      "1\n",
      "2\n",
      "3\n",
      "4\n",
      "5\n"
     ]
    }
   ],
   "source": [
    "mi_lista = [1, 2, 3, 4, 5]\n",
    "\n",
    "for elemento in mi_lista:\n",
    "    print(elemento)"
   ]
  },
  {
   "cell_type": "markdown",
   "metadata": {},
   "source": [
    "Puedes acceder a los elementos de una lista por su índice, que es la posición del elemento en la lista. Los índices en Python comienzan en 0, por lo que el primer elemento de una lista tiene índice 0, el segundo elemento tiene índice 1, y así sucesivamente.\n",
    "\n",
    "También puedes modificar los elementos de una lista utilizando el índice.\n",
    "\n",
    "Por ejemplo:"
   ]
  },
  {
   "cell_type": "code",
   "execution_count": 21,
   "metadata": {},
   "outputs": [
    {
     "name": "stdout",
     "output_type": "stream",
     "text": [
      "1\n",
      "2\n",
      "5\n",
      "10\n"
     ]
    }
   ],
   "source": [
    "print(mi_lista[0])  # Imprime 1\n",
    "print(mi_lista[1])  # Imprime 2\n",
    "print(mi_lista[4])  # Imprime 5\n",
    "\n",
    "mi_lista[0] = 10\n",
    "print(mi_lista[0])  # Imprime 10"
   ]
  },
  {
   "cell_type": "markdown",
   "metadata": {},
   "source": [
    "Además, puedes utilizar los operadores de slicing (:) para obtener un subconjunto de elementos de una lista. Por ejemplo:"
   ]
  },
  {
   "cell_type": "code",
   "execution_count": 22,
   "metadata": {},
   "outputs": [
    {
     "name": "stdout",
     "output_type": "stream",
     "text": [
      "[2, 3]\n",
      "[10, 2, 3]\n",
      "[4, 5]\n"
     ]
    }
   ],
   "source": [
    "print(mi_lista[1:3])  # Imprime [2, 3]\n",
    "print(mi_lista[:3])   # Imprime [10, 2, 3]\n",
    "print(mi_lista[3:])   # Imprime [4, 5]"
   ]
  },
  {
   "cell_type": "markdown",
   "metadata": {},
   "source": [
    "Como ya ojeamos anteriormente, un diccionario es una estructura de datos que almacena pares de valores clave-valor. Puedes crear un diccionario en Python utilizando llaves y separando cada par clave-valor con una coma. Las claves deben ser únicas dentro de un diccionario. Por ejemplo:"
   ]
  },
  {
   "cell_type": "code",
   "execution_count": 23,
   "metadata": {},
   "outputs": [
    {
     "name": "stdout",
     "output_type": "stream",
     "text": [
      "valor1\n",
      "valor2\n",
      "nuevo valor\n"
     ]
    }
   ],
   "source": [
    "mi_diccionario = {'clave1': 'valor1', 'clave2': 'valor2', 'clave3': 'valor3'}\n",
    "\n",
    "\n",
    "# Para acceder a un valor usamos su clave\n",
    "\n",
    "print(mi_diccionario['clave1'])  # Imprime 'valor1'\n",
    "print(mi_diccionario['clave2'])  # Imprime 'valor2'\n",
    "\n",
    "mi_diccionario['clave1'] = 'nuevo valor'\n",
    "print(mi_diccionario['clave1'])  # Imprime 'nuevo valor'\n"
   ]
  },
  {
   "cell_type": "markdown",
   "metadata": {},
   "source": [
    "### Otras estructuras de datos\n",
    "\n",
    "Python ofrece muchas estructuras de datos para organizar la información, como ya hemos visto.\n",
    "\n",
    "Una de ellas es el \"Set\" o conjunto. \n",
    "\n",
    "Un ejemplo práctico de uso de conjuntos podría ser para eliminar elementos duplicados de una lista.\n",
    "\n",
    "Podemos eliminar los elementos duplicados de esta lista convirtiéndola primero a un conjunto, y luego volviéndola a convertir a una lista:"
   ]
  },
  {
   "cell_type": "code",
   "execution_count": 24,
   "metadata": {},
   "outputs": [
    {
     "name": "stdout",
     "output_type": "stream",
     "text": [
      "[1, 2, 3, 4, 5, 6]\n"
     ]
    }
   ],
   "source": [
    "numeros = [1, 2, 3, 3, 4, 5, 5, 6, 6, 6]\n",
    "\n",
    "sin_duplicados = list(set(numeros))\n",
    "print(sin_duplicados)  # Imprime [1, 2, 3, 4, 5, 6]"
   ]
  },
  {
   "cell_type": "markdown",
   "metadata": {},
   "source": [
    "Otro uso común de los conjuntos es para realizar operaciones de conjuntos, como la unión, intersección y diferencia. Por ejemplo:"
   ]
  },
  {
   "cell_type": "code",
   "execution_count": 25,
   "metadata": {},
   "outputs": [
    {
     "name": "stdout",
     "output_type": "stream",
     "text": [
      "{'Ana', 'Juan', 'Pablo', 'Pedro', 'Mario'}\n",
      "{'Ana'}\n",
      "{'Pedro', 'Juan'}\n"
     ]
    }
   ],
   "source": [
    "conjunto_a = {'Juan', 'Pedro', 'Ana'}\n",
    "conjunto_b = {'Ana', 'Pablo', 'Mario'}\n",
    "\n",
    "# Unión de los dos conjuntos\n",
    "unio = conjunto_a.union(conjunto_b)\n",
    "print(unio)  \n",
    "\n",
    "# Intersección de los dos conjuntos\n",
    "interseccion = conjunto_a.intersection(conjunto_b)\n",
    "print(interseccion)  \n",
    "\n",
    "# Diferencia entre el primer conjunto y el segundo\n",
    "diferencia = conjunto_a.difference(conjunto_b)\n",
    "print(diferencia)  "
   ]
  },
  {
   "cell_type": "markdown",
   "metadata": {},
   "source": [
    "## Leer y tratar ficheros\n",
    "\n",
    "Python permite la lectura y escritura de ficheros. Esto puede ser útil en muchas situaciones, como cuando quieras procesar un conjunto de datos que has almacenado en un archivo o cuando quieras leer el contenido de un archivo para mostrarlo en tu programa. Por ejemplo:"
   ]
  },
  {
   "cell_type": "code",
   "execution_count": 27,
   "metadata": {},
   "outputs": [
    {
     "name": "stdout",
     "output_type": "stream",
     "text": [
      "['Month', ' \"1958\"', ' \"1959\"', ' \"1960\"']\n",
      "['JAN', '340', '360', '417']\n",
      "['FEB', '318', '342', '391']\n",
      "['MAR', '362', '406', '419']\n",
      "['APR', '348', '396', '461']\n",
      "['MAY', '363', '420', '472']\n",
      "['JUN', '435', '472', '535']\n",
      "['JUL', '491', '548', '622']\n",
      "['AUG', '505', '559', '606']\n",
      "['SEP', '404', '463', '508']\n",
      "['OCT', '359', '407', '461']\n",
      "['NOV', '310', '362', '390']\n",
      "['DEC', '337', '405', '432']\n"
     ]
    }
   ],
   "source": [
    "import csv\n",
    "\n",
    "# Abrir el archivo en modo lectura\n",
    "with open('resources/airtravel.csv', 'r') as f:\n",
    "    # Crear un objeto reader a partir del archivo\n",
    "    reader = csv.reader(f)\n",
    "\n",
    "    headers = next(reader) #Ignorar la cabecera\n",
    "    print(headers)\n",
    "  \n",
    "  # Iterar sobre las filas del archivo\n",
    "    for row in reader:\n",
    "        # Procesar cada fila\n",
    "        print(row)\n"
   ]
  },
  {
   "cell_type": "markdown",
   "metadata": {},
   "source": [
    "Vamos a calcular la media de vuelos de cada mes durante los 3 años"
   ]
  },
  {
   "cell_type": "code",
   "execution_count": null,
   "metadata": {},
   "outputs": [],
   "source": [
    "import csv\n",
    "\n",
    "# Abrir el archivo en modo lectura\n",
    "with open('resources/airtravel.csv', 'r') as f:\n",
    "    # Crear un objeto reader a partir del archivo\n",
    "    reader = csv.reader(f)\n",
    "\n",
    "    headers = next(reader) #Ignorar la cabecera\n",
    "    print(headers)\n",
    "  \n",
    "  # Iterar sobre las filas del archivo\n",
    "    for row in reader:\n",
    "        # Procesar cada fila\n",
    "        "
   ]
  },
  {
   "cell_type": "code",
   "execution_count": 32,
   "metadata": {},
   "outputs": [
    {
     "name": "stdout",
     "output_type": "stream",
     "text": [
      "['Month', ' \"1958\"', ' \"1959\"', ' \"1960\"']\n",
      "El mes con mayor media de eventos es AUG con 556.67 vuelos\n"
     ]
    }
   ],
   "source": [
    "import csv\n",
    "\n",
    "# Abrir el archivo en modo lectura\n",
    "with open('resources/airtravel.csv', 'r') as f:\n",
    "    # Crear un objeto reader a partir del archivo\n",
    "    reader = csv.reader(f)\n",
    "\n",
    "    \n",
    "    headers = next(reader) #Ignorar la cabecera\n",
    "    print(headers)\n",
    "\n",
    "    avg_months = []\n",
    "\n",
    "    # Iterar sobre las filas del archivo\n",
    "    for row in reader:\n",
    "        # Procesar cada fila\n",
    "        avg_months.append({\"month_name\":row[0], \"avg_flights\":round(sum(map(int,row[1:]))/len(row[1:]),2)})\n",
    "\n",
    "    # Obtener el mes con la mayor media de eventos\n",
    "#print(avg_months)\n",
    "\n",
    "mes_maximo = max(avg_months, key=lambda x: x[\"avg_flights\"])\n",
    "print(f\"El mes con mayor media de eventos es {mes_maximo['month_name']} con {mes_maximo['avg_flights']} vuelos\")\n",
    "\n"
   ]
  },
  {
   "cell_type": "markdown",
   "metadata": {},
   "source": [
    "Ahora necesitamos saber el total de vuelos de cada año y el año con más vuelos"
   ]
  },
  {
   "cell_type": "code",
   "execution_count": null,
   "metadata": {},
   "outputs": [],
   "source": [
    "import csv\n",
    "\n",
    "# Abrir el archivo en modo lectura\n",
    "with open('resources/airtravel.csv', 'r') as f:\n",
    "    # Crear un objeto reader a partir del archivo\n",
    "    reader = csv.reader(f)\n",
    "\n",
    "    headers = next(reader) #Ignorar la cabecera\n",
    "\n",
    "    tot_year = [0,0,0]\n",
    "\n",
    "    for row in reader:"
   ]
  },
  {
   "cell_type": "code",
   "execution_count": 34,
   "metadata": {},
   "outputs": [
    {
     "name": "stdout",
     "output_type": "stream",
     "text": [
      "[(' \"1958\"', 4572), (' \"1959\"', 5140), (' \"1960\"', 5714)]\n",
      "Año:  \"1958\" Vuelos totales: 4572\n",
      "Año:  \"1959\" Vuelos totales: 5140\n",
      "Año:  \"1960\" Vuelos totales: 5714\n"
     ]
    }
   ],
   "source": [
    "import csv\n",
    "\n",
    "# Abrir el archivo en modo lectura\n",
    "with open('resources/airtravel.csv', 'r') as f:\n",
    "    # Crear un objeto reader a partir del archivo\n",
    "    reader = csv.reader(f)\n",
    "\n",
    "    headers = next(reader) #Ignorar la cabecera\n",
    "\n",
    "    tot_year = [0,0,0]\n",
    "\n",
    "    for row in reader:\n",
    "        tot_year = list(map(sum, zip(tot_year, map(int,row[1:]))))    \n",
    "\n",
    "tot_year = list(zip(headers[1:],tot_year))\n",
    "\n",
    "print(tot_year)\n",
    "\n",
    "for año, total in tot_year:\n",
    "    print(\"Año:\",str(año),  \"Vuelos totales: \"+ str(total))"
   ]
  },
  {
   "cell_type": "markdown",
   "metadata": {},
   "source": [
    "Tambien podemos leer archivos JSON. Un archivo JSON es simplemente un archivo de texto que contiene una estructura de datos serializada en formato JSON. La estructura de datos puede ser un diccionario (un conjunto de pares clave-valor), una lista (un conjunto ordenado de valores) o cualquier combinación de estos."
   ]
  },
  {
   "cell_type": "code",
   "execution_count": 35,
   "metadata": {},
   "outputs": [
    {
     "name": "stdout",
     "output_type": "stream",
     "text": [
      "{'Employees': [{'userId': 'krish', 'jobTitle': 'Developer', 'firstName': 'Krish', 'lastName': 'Lee', 'employeeCode': 'E1', 'region': 'CA', 'phoneNumber': '788456123', 'emailAddress': 'krish.lee@examplepython.com'}, {'userId': 'devid', 'jobTitle': 'Developer', 'firstName': 'Devid', 'lastName': 'Rome', 'employeeCode': 'E2', 'region': 'CA', 'phoneNumber': '675342186', 'emailAddress': 'devid.rome@examplepython.com'}, {'userId': 'tin', 'jobTitle': 'Program Directory', 'firstName': 'tin', 'lastName': 'jonson', 'employeeCode': 'E3', 'region': 'CA', 'phoneNumber': '698732145', 'emailAddress': 'tin.jonson@examplepython.com'}, {'userId': 'alonso', 'jobTitle': 'Program Directory', 'firstName': 'Alonso', 'lastName': 'Benitez', 'employeeCode': 'J2', 'region': 'TX', 'phoneNumber': '654964948', 'emailAddress': 'alonso.benitez@examplepython.com'}, {'userId': 'carla', 'jobTitle': 'RR.HH', 'firstName': 'Carla', 'lastName': 'GonzÃ¡lez', 'employeeCode': 'E3', 'region': 'TX', 'phoneNumber': '632198172', 'emailAddress': 'carla.gonzalez@examplepython.com'}, {'userId': 'paula', 'jobTitle': 'Web Developer', 'firstName': 'Paula', 'lastName': 'GarcÃ\\xada', 'employeeCode': 'J3', 'region': 'CA', 'phoneNumber': '623485397', 'emailAddress': 'paula.garcia@examplepython.com'}, {'userId': 'gonzalo', 'jobTitle': 'Manager', 'firstName': 'Gonzalo', 'lastName': 'Carrasco', 'employeeCode': 'S3', 'region': 'NY', 'phoneNumber': '632459878', 'emailAddress': 'gonzalo.carrasco@examplepython.com'}, {'userId': 'rebeca', 'jobTitle': 'IT', 'firstName': 'Rebeca', 'lastName': 'Sanchez', 'employeeCode': 'E1', 'region': 'NY', 'phoneNumber': '698745124', 'emailAddress': 'rebeca.sanchez@examplepython.com'}]}\n"
     ]
    }
   ],
   "source": [
    "import json\n",
    "\n",
    "with open(\"resources/employee-data.json\", \"r\") as f:\n",
    "    datos = json.load(f)\n",
    "    print(datos)\n",
    "\n",
    "    "
   ]
  },
  {
   "cell_type": "code",
   "execution_count": 37,
   "metadata": {},
   "outputs": [
    {
     "name": "stdout",
     "output_type": "stream",
     "text": [
      "el empleado: krish es de CA y su número de teléfono es: 788456123\n",
      "el empleado: devid es de CA y su número de teléfono es: 675342186\n",
      "el empleado: tin es de CA y su número de teléfono es: 698732145\n",
      "el empleado: alonso es de TX y su número de teléfono es: 654964948\n",
      "el empleado: carla es de TX y su número de teléfono es: 632198172\n",
      "el empleado: paula es de CA y su número de teléfono es: 623485397\n",
      "el empleado: gonzalo es de NY y su número de teléfono es: 632459878\n",
      "el empleado: rebeca es de NY y su número de teléfono es: 698745124\n"
     ]
    }
   ],
   "source": [
    "import json\n",
    "\n",
    "with open(\"resources/employee-data.json\", \"r\") as f:\n",
    "    datos = json.load(f)\n",
    "    empleados = datos['Employees']\n",
    "\n",
    "    for empleado in empleados:\n",
    "        print(f\"el empleado: {empleado['userId']} es de {empleado['region']} y su número de teléfono es: {empleado['phoneNumber']}\")\n"
   ]
  },
  {
   "cell_type": "markdown",
   "metadata": {},
   "source": [
    "Una vez sabemos navegar por una estructura de datos, podemos usarlas para nuestro beneficio, por ejemplo, calcular las regiones de las que son nuestros empleados"
   ]
  },
  {
   "cell_type": "code",
   "execution_count": null,
   "metadata": {},
   "outputs": [],
   "source": [
    "import json\n",
    "\n",
    "with open(\"employee-data.json\", \"r\") as f:\n",
    "    datos = json.load(f)\n",
    "    empleados = datos['Employees']\n",
    "\n",
    "    regiones = set()\n",
    "\n",
    "    for empleado in empleados:\n",
    "        "
   ]
  },
  {
   "cell_type": "code",
   "execution_count": 39,
   "metadata": {},
   "outputs": [
    {
     "name": "stdout",
     "output_type": "stream",
     "text": [
      "{'NY', 'CA', 'TX'}\n"
     ]
    }
   ],
   "source": [
    "import json\n",
    "\n",
    "with open(\"resources/employee-data.json\", \"r\") as f:\n",
    "    datos = json.load(f)\n",
    "    empleados = datos['Employees']\n",
    "\n",
    "    regiones = set()\n",
    "\n",
    "    for empleado in empleados:\n",
    "        regiones.add(empleado['region'])\n",
    "\n",
    "    print(regiones)"
   ]
  },
  {
   "cell_type": "markdown",
   "metadata": {},
   "source": [
    "O por ejemplo, conocer los empleados con un determinado 'jobtitle'"
   ]
  },
  {
   "cell_type": "code",
   "execution_count": null,
   "metadata": {},
   "outputs": [],
   "source": [
    "import json\n",
    "\n",
    "with open(\"employee-data.json\", \"r\") as f:\n",
    "    datos = json.load(f)\n",
    "    empleados = datos['Employees']\n",
    "\n",
    "    print(\"Los usuarios Developer son:\")\n",
    "\n",
    "    for empleado in empleados:\n",
    "        "
   ]
  },
  {
   "cell_type": "code",
   "execution_count": 40,
   "metadata": {},
   "outputs": [
    {
     "name": "stdout",
     "output_type": "stream",
     "text": [
      "Los usuarios IT son:\n",
      "Rebeca Sanchez - rebeca.sanchez@examplepython.com\n"
     ]
    }
   ],
   "source": [
    "import json\n",
    "\n",
    "with open(\"resources/employee-data.json\", \"r\") as f:\n",
    "    datos = json.load(f)\n",
    "    empleados = datos['Employees']\n",
    "\n",
    "    print(\"Los usuarios IT son:\")\n",
    "\n",
    "    for empleado in empleados:\n",
    "        if(empleado['jobTitle'] == 'IT'):\n",
    "            print(f\"{empleado['firstName']} {empleado['lastName']} - {empleado['emailAddress']}\")\n",
    "        "
   ]
  },
  {
   "cell_type": "markdown",
   "metadata": {},
   "source": [
    "Podemos crear listas usando expresiones de comprension o expresiones generadoras para filtrar rápidamente, por ejemplo:"
   ]
  },
  {
   "cell_type": "code",
   "execution_count": 42,
   "metadata": {},
   "outputs": [
    {
     "name": "stdout",
     "output_type": "stream",
     "text": [
      "empleados CA:  4\n",
      "empleados E1:  2\n",
      "empleados_E1_or_CA con repetidos:  6\n",
      "empleados_E1_or_CA sin repetidos:  5\n"
     ]
    }
   ],
   "source": [
    "import json\n",
    "\n",
    "with open(\"resources/employee-data.json\", \"r\") as f:\n",
    "    datos = json.load(f)\n",
    "    empleados = datos['Employees']\n",
    "\n",
    "    empleados_CA = [empleado for empleado in datos['Employees'] if empleado['region'] == 'CA'] # Usando expresiones de comprension\n",
    "\n",
    "    empleados_E1 = list(empleado for empleado in datos['Employees'] if empleado['employeeCode'] == 'E1') # usando expresión generadora\n",
    "\n",
    "    print(\"empleados CA: \",len(empleados_CA))\n",
    "    \n",
    "    print(\"empleados E1: \",len(empleados_E1))\n",
    "    \n",
    "    empleados_E1_or_CA = empleados_E1+empleados_CA\n",
    "\n",
    "    print(\"empleados_E1_or_CA con repetidos: \",len(empleados_E1_or_CA))\n",
    "\n",
    "    # Convierte cada diccionario en una cadena y crea un conjunto con ellas, los diccionarios son estructuras de datos mutables y no pueden añadirse a un set, debido a que su hash podría cambiar\n",
    "    empleados_E1_or_CA = set(json.dumps(empleado) for empleado in empleados_E1_or_CA) # for each empleado in empleados, genera una string de los datos del empleado en formato json y añadelo al set.\n",
    "    #sería lo mismo que:\n",
    "    \n",
    "    #s = set()\n",
    "    #for empleado in empleados_E1_or_CA:\n",
    "    #   s.add(json.dumps(empleado))\n",
    "\n",
    "    #s = list(json.dumps(d) for d in empleados_E1_or_CA) # Si esto lo hacemos en una lista no sirve, usamos las propiedades de los conjuntos\n",
    "\n",
    "    print(\"empleados_E1_or_CA sin repetidos: \",len(empleados_E1_or_CA))\n",
    "\n",
    "\n"
   ]
  },
  {
   "cell_type": "markdown",
   "metadata": {},
   "source": [
    "En general se pueden leer y modificar toda clase de archivos, incluso sin hacer uso de las librerías, por ejemplo, vamos a leer un archivo html y un csv y por cada usuario del csv, generar varios archivos html personalizados:"
   ]
  },
  {
   "cell_type": "code",
   "execution_count": null,
   "metadata": {},
   "outputs": [],
   "source": []
  },
  {
   "cell_type": "code",
   "execution_count": null,
   "metadata": {},
   "outputs": [],
   "source": [
    "import csv, os\n",
    "\n",
    "with open('resources/email.html') as f:\n",
    "    html_template = f.read()\n",
    "\n",
    "    # Abrir el archivo en modo lectura\n",
    "    with open('resources/interests.csv', 'r') as f:\n",
    "\n",
    "        reader = csv.reader(f)\n",
    "        headers = next(reader) #Ignorar la cabecera\n",
    "\n",
    "        for tokens in reader:\n",
    "           \n",
    "            html = html_template #cada iteración escogemos la plantilla\n",
    "\n",
    "            for i,token in enumerate(tokens, start = 1):\n",
    "                html = html.replace('$'+str(i),  token) # Reemplazar el string\n",
    "            try:\n",
    "                os.mkdir('emails') #como intentará crear una carpeta por usuario dará un error\n",
    "            except:\n",
    "                pass # ignoramos el error, ya que no creará más carpetas\n",
    "            with open('emails/'+tokens[0]+'.html', 'w') as f:\n",
    "                f.write(html) # podemos comprobar los html en https://codebeautify.org/htmlviewer#\n",
    "\n",
    "                #email_to(hmtl)"
   ]
  }
 ],
 "metadata": {
  "kernelspec": {
   "display_name": "Python 3.10.9 64-bit (microsoft store)",
   "language": "python",
   "name": "python3"
  },
  "language_info": {
   "codemirror_mode": {
    "name": "ipython",
    "version": 3
   },
   "file_extension": ".py",
   "mimetype": "text/x-python",
   "name": "python",
   "nbconvert_exporter": "python",
   "pygments_lexer": "ipython3",
   "version": "3.10.9"
  },
  "orig_nbformat": 4,
  "vscode": {
   "interpreter": {
    "hash": "85aece5883f23cf93a903b25fd3f6a5833dab6da9d10cf403dbbc785be5e4181"
   }
  }
 },
 "nbformat": 4,
 "nbformat_minor": 2
}
