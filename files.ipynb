{
 "cells": [
  {
   "cell_type": "markdown",
   "metadata": {},
   "source": [
    "# Trabajar con archivos\n",
    "\n",
    "Para trabajar con archivos en Python, primero debes abrir el archivo en modo lectura o escritura. Puedes hacerlo usando la función open() de Python.\n",
    "\n",
    "A continuación se muestra un ejemplo de cómo abrir un archivo para leer su contenido:"
   ]
  },
  {
   "cell_type": "code",
   "execution_count": 7,
   "metadata": {},
   "outputs": [
    {
     "name": "stdout",
     "output_type": "stream",
     "text": [
      "{\n",
      "  \"Employees\": [\n",
      "    {\n",
      "      \"userId\": \"krish\",\n",
      "      \"jobTitle\": \"Developer\",\n",
      "      \"firstName\": \"Krish\",\n",
      "      \"lastName\": \"Lee\",\n",
      "      \"employeeCode\": \"E1\",\n",
      "      \"region\": \"CA\",\n",
      "      \"phoneNumber\": \"788456123\",\n",
      "      \"emailAddress\": \"krish.lee@examplepython.com\"\n",
      "    },\n",
      "   \n"
     ]
    }
   ],
   "source": [
    "with open('employee-data.json', 'r') as f:\n",
    "    contenido = f.read(280)\n",
    "    print(contenido)"
   ]
  },
  {
   "cell_type": "markdown",
   "metadata": {},
   "source": [
    "Para escribir en un archivo, puedes usar el modo escritura ('w'). Por ejemplo:"
   ]
  },
  {
   "cell_type": "code",
   "execution_count": 19,
   "metadata": {},
   "outputs": [],
   "source": [
    "with open('archivo.txt', 'w') as f:\n",
    "    f.write('Hola, mundo!')"
   ]
  },
  {
   "cell_type": "markdown",
   "metadata": {},
   "source": [
    "Para navegar entre los archivos de nuestra carpeta haremos uso de la librería \"os\" que usaremos como interfaz entre el sistema operativo y Python"
   ]
  },
  {
   "cell_type": "code",
   "execution_count": 20,
   "metadata": {},
   "outputs": [
    {
     "name": "stdout",
     "output_type": "stream",
     "text": [
      "['.git', 'archivo.txt', 'control_structures.ipynb', 'employee-data.json', 'files.ipynb', 'functions.ipynb', 'introduction.ipynb', 'oop.ipynb', 'README.md']\n"
     ]
    }
   ],
   "source": [
    "import os\n",
    "\n",
    "# Listar los archivos en el directorio actual\n",
    "archivos = os.listdir('.')\n",
    "print(archivos)"
   ]
  },
  {
   "cell_type": "markdown",
   "metadata": {},
   "source": [
    "Para renombrar un archivo:"
   ]
  },
  {
   "cell_type": "code",
   "execution_count": 21,
   "metadata": {},
   "outputs": [],
   "source": [
    "import os\n",
    "\n",
    "os.rename(\"archivo.txt\",\"newArchivo.txt\")"
   ]
  },
  {
   "cell_type": "markdown",
   "metadata": {},
   "source": [
    "O por ejemplo, para borrar un archivo:"
   ]
  },
  {
   "cell_type": "code",
   "execution_count": 23,
   "metadata": {},
   "outputs": [],
   "source": [
    "import os\n",
    "\n",
    "# Eliminar el archivo 'archivo.txt'\n",
    "os.remove('newarchivo.txt')"
   ]
  },
  {
   "cell_type": "markdown",
   "metadata": {},
   "source": [
    "### Excepciones\n",
    "Es importante saber que el manejo de estas funciones debe ser controlado metódicamente ya que, por ejemplo, si intentamos borrar un archivo que no existe nos lanzará una excepción:"
   ]
  },
  {
   "cell_type": "code",
   "execution_count": 24,
   "metadata": {},
   "outputs": [
    {
     "ename": "FileNotFoundError",
     "evalue": "[WinError 2] El sistema no puede encontrar el archivo especificado: 'newarchivo.txt'",
     "output_type": "error",
     "traceback": [
      "\u001b[1;31m---------------------------------------------------------------------------\u001b[0m",
      "\u001b[1;31mFileNotFoundError\u001b[0m                         Traceback (most recent call last)",
      "Cell \u001b[1;32mIn[24], line 4\u001b[0m\n\u001b[0;32m      1\u001b[0m \u001b[39mimport\u001b[39;00m \u001b[39mos\u001b[39;00m\n\u001b[0;32m      3\u001b[0m \u001b[39m# Eliminar el archivo 'archivo.txt'\u001b[39;00m\n\u001b[1;32m----> 4\u001b[0m os\u001b[39m.\u001b[39;49mremove(\u001b[39m'\u001b[39;49m\u001b[39mnewarchivo.txt\u001b[39;49m\u001b[39m'\u001b[39;49m)\n",
      "\u001b[1;31mFileNotFoundError\u001b[0m: [WinError 2] El sistema no puede encontrar el archivo especificado: 'newarchivo.txt'"
     ]
    }
   ],
   "source": [
    "import os\n",
    "\n",
    "# Eliminar el archivo 'archivo.txt'\n",
    "os.remove('newarchivo.txt')"
   ]
  },
  {
   "cell_type": "markdown",
   "metadata": {},
   "source": [
    "Para controlar ésta excepción podemos utilizar los bloques try-except:"
   ]
  },
  {
   "cell_type": "code",
   "execution_count": 34,
   "metadata": {},
   "outputs": [
    {
     "name": "stdout",
     "output_type": "stream",
     "text": [
      "Mensaje de error: El sistema no puede encontrar el archivo especificado\n",
      "El error pertenece a la clase <slot wrapper '__str__' of 'OSError' objects>\n",
      "Tipo de excepción: FileNotFoundError\n",
      "Traza del error: <traceback object at 0x000001A4B35AC740>\n"
     ]
    }
   ],
   "source": [
    "import os\n",
    "\n",
    "try:\n",
    "\n",
    "    # Eliminar el archivo 'archivo.txt'\n",
    "    os.remove('archivo.txt')\n",
    "\n",
    "except Exception as e:\n",
    "    print(\"Mensaje de error:\", e.strerror)\n",
    "    print(\"El error pertenece a la clase\", e.__class__.__str__)\n",
    "    print(\"Tipo de excepción:\", e.__class__.__name__)\n",
    "    print(\"Traza del error:\", e.__traceback__)"
   ]
  },
  {
   "cell_type": "markdown",
   "metadata": {},
   "source": [
    "Como se puede observar el manejo de errores se realiza igual que en otros lenguajes de programación."
   ]
  },
  {
   "cell_type": "markdown",
   "metadata": {},
   "source": [
    "## Manejo de cadenas\n",
    "\n",
    "Las cadenas de caracteres en Python también son muy parecidas al resto de lenguajes de programación.\n",
    "\n",
    "Algunas operaciones y métodos comunes para manipular cadenas en Python son:"
   ]
  },
  {
   "cell_type": "code",
   "execution_count": null,
   "metadata": {},
   "outputs": [],
   "source": [
    "cadena1 = \"Hola\"\n",
    "cadena2 = \"Mundo\"\n",
    "cadena3 = cadena1 + \" \" + cadena2\n",
    "print(cadena3)  # imprime \"Hola Mundo\""
   ]
  },
  {
   "cell_type": "markdown",
   "metadata": {},
   "source": [
    "Repetición de cadenas:"
   ]
  },
  {
   "cell_type": "code",
   "execution_count": null,
   "metadata": {},
   "outputs": [],
   "source": [
    "cadena = \"Hola \"\n",
    "cadena_repetida = cadena * 3\n",
    "print(cadena_repetida)  # imprime \"Hola Hola Hola \""
   ]
  },
  {
   "cell_type": "markdown",
   "metadata": {},
   "source": [
    "Acceso a caracteres:"
   ]
  },
  {
   "cell_type": "code",
   "execution_count": null,
   "metadata": {},
   "outputs": [],
   "source": [
    "cadena = \"Hola mundo\"\n",
    "\n",
    "primer_caracter = cadena[0]"
   ]
  },
  {
   "cell_type": "markdown",
   "metadata": {},
   "source": [
    "Slicing:"
   ]
  },
  {
   "cell_type": "code",
   "execution_count": 40,
   "metadata": {},
   "outputs": [],
   "source": [
    "cadena = \"Hola Mundo\"\n",
    "subcadena = cadena[3:7]  # \"a Mu\"\n",
    "subcadena = cadena[:6]   # \"Hola M\""
   ]
  },
  {
   "cell_type": "markdown",
   "metadata": {},
   "source": [
    "Tambien podemos hacer uso de las funciones integradas de Python para el manejo de cadenas, como por ejemplo:"
   ]
  },
  {
   "cell_type": "code",
   "execution_count": 42,
   "metadata": {},
   "outputs": [
    {
     "name": "stdout",
     "output_type": "stream",
     "text": [
      "HOLA MUNDO\n",
      "hola mundo\n",
      "['Hola', 'Mundo']\n",
      "Hala Munda\n"
     ]
    }
   ],
   "source": [
    "cadena = \"Hola Mundo\"\n",
    "\n",
    "print(cadena.upper())\n",
    "\n",
    "print(cadena.lower())\n",
    "\n",
    "print(cadena.split(\" \"))\n",
    "\n",
    "print(cadena.replace(\"o\",\"a\"))"
   ]
  },
  {
   "cell_type": "markdown",
   "metadata": {},
   "source": [
    "También podemos hacer uso de expresiones regulares para encontrar patrones, por ejemplo:"
   ]
  },
  {
   "cell_type": "code",
   "execution_count": 52,
   "metadata": {},
   "outputs": [
    {
     "name": "stdout",
     "output_type": "stream",
     "text": [
      "juan@gmail.com\n"
     ]
    }
   ],
   "source": [
    "import re\n",
    "\n",
    "# Cadena de texto donde se va a buscar el patrón\n",
    "cadena = \"Hola, mi nombre es Juan y mi correo es juan@gmail.com\"\n",
    "\n",
    "# Patrón a buscar en la cadena de texto\n",
    "patron = r\"[a-zA-Z0-9._%+-]+@[a-zA-Z0-9.-]+\\.[a-zA-Z]{2,}\"\n",
    "\n",
    "# Buscar el patrón en la cadena de texto\n",
    "resultado = re.search(patron, cadena)\n",
    "\n",
    "if resultado:\n",
    "    # Imprimir el patrón encontrado\n",
    "    print(resultado.group())\n",
    "else:\n",
    "    print(\"Patrón no encontrado\")"
   ]
  },
  {
   "cell_type": "markdown",
   "metadata": {},
   "source": [
    "Si hubiera varios correos:"
   ]
  },
  {
   "cell_type": "code",
   "execution_count": 53,
   "metadata": {},
   "outputs": [
    {
     "name": "stdout",
     "output_type": "stream",
     "text": [
      "juan@gmail.com\n",
      "juan.perez@outlook.com\n"
     ]
    }
   ],
   "source": [
    "import re\n",
    "\n",
    "# Cadena de texto donde se van a buscar los patrones\n",
    "cadena = \"Hola, mi nombre es Juan y mi correo es juan@gmail.com. También tengo una dirección alternativa en juan.perez@outlook.com\"\n",
    "\n",
    "# Patrón a buscar en la cadena de texto\n",
    "patron = r\"[a-zA-Z0-9._%+-]+@[a-zA-Z0-9.-]+\\.[a-zA-Z]{2,}\"\n",
    "\n",
    "# Buscar todas las ocurrencias del patrón en la cadena de texto\n",
    "resultados = re.finditer(patron, cadena)\n",
    "\n",
    "# Imprimir todos los patrones encontrados\n",
    "for resultado in resultados:\n",
    "    print(resultado.group())"
   ]
  },
  {
   "cell_type": "markdown",
   "metadata": {},
   "source": [
    "## Listas y diccionarios\n",
    "\n",
    "Las listas y los diccionarios son estructuras de datos muy útiles en Python que pueden ayudarte a organizar y almacenar información de manera eficiente.\n",
    "\n",
    "Una lista es una secuencia ordenada de elementos. Puedes crear una lista en Python utilizando corchetes y separando cada elemento con una coma. Por ejemplo:"
   ]
  },
  {
   "cell_type": "code",
   "execution_count": 54,
   "metadata": {},
   "outputs": [
    {
     "name": "stdout",
     "output_type": "stream",
     "text": [
      "1\n",
      "2\n",
      "3\n",
      "4\n",
      "5\n"
     ]
    }
   ],
   "source": [
    "mi_lista = [1, 2, 3, 4, 5]\n",
    "\n",
    "for elemento in mi_lista:\n",
    "    print(elemento)"
   ]
  },
  {
   "cell_type": "markdown",
   "metadata": {},
   "source": [
    "Puedes acceder a los elementos de una lista por su índice, que es la posición del elemento en la lista. Los índices en Python comienzan en 0, por lo que el primer elemento de una lista tiene índice 0, el segundo elemento tiene índice 1, y así sucesivamente.\n",
    "\n",
    "También puedes modificar los elementos de una lista utilizando el índice.\n",
    "\n",
    "Por ejemplo:"
   ]
  },
  {
   "cell_type": "code",
   "execution_count": 55,
   "metadata": {},
   "outputs": [
    {
     "name": "stdout",
     "output_type": "stream",
     "text": [
      "1\n",
      "2\n",
      "5\n",
      "10\n"
     ]
    }
   ],
   "source": [
    "print(mi_lista[0])  # Imprime 1\n",
    "print(mi_lista[1])  # Imprime 2\n",
    "print(mi_lista[4])  # Imprime 5\n",
    "\n",
    "mi_lista[0] = 10\n",
    "print(mi_lista[0])  # Imprime 10"
   ]
  },
  {
   "cell_type": "markdown",
   "metadata": {},
   "source": [
    "Además, puedes utilizar los operadores de slicing (:) para obtener un subconjunto de elementos de una lista. Por ejemplo:"
   ]
  },
  {
   "cell_type": "code",
   "execution_count": 56,
   "metadata": {},
   "outputs": [
    {
     "name": "stdout",
     "output_type": "stream",
     "text": [
      "[2, 3]\n",
      "[10, 2, 3]\n",
      "[4, 5]\n"
     ]
    }
   ],
   "source": [
    "print(mi_lista[1:3])  # Imprime [2, 3]\n",
    "print(mi_lista[:3])   # Imprime [10, 2, 3]\n",
    "print(mi_lista[3:])   # Imprime [4, 5]"
   ]
  },
  {
   "cell_type": "markdown",
   "metadata": {},
   "source": [
    "Como ya ojeamos anteriormente, un diccionario es una estructura de datos que almacena pares de valores clave-valor. Puedes crear un diccionario en Python utilizando llaves y separando cada par clave-valor con una coma. Las claves deben ser únicas dentro de un diccionario. Por ejemplo:"
   ]
  },
  {
   "cell_type": "code",
   "execution_count": 58,
   "metadata": {},
   "outputs": [
    {
     "name": "stdout",
     "output_type": "stream",
     "text": [
      "valor5\n",
      "valor2\n",
      "nuevo valor\n"
     ]
    }
   ],
   "source": [
    "mi_diccionario = {'clave1': 'valor1', 'clave2': 'valor2', 'clave3': 'valor3'}\n",
    "\n",
    "\n",
    "# Para acceder a un valor usamos su clave\n",
    "\n",
    "print(mi_diccionario['clave1'])  # Imprime 'valor1'\n",
    "print(mi_diccionario['clave2'])  # Imprime 'valor2'\n",
    "\n",
    "mi_diccionario['clave1'] = 'nuevo valor'\n",
    "print(mi_diccionario['clave1'])  # Imprime 'nuevo valor'\n"
   ]
  },
  {
   "cell_type": "markdown",
   "metadata": {},
   "source": [
    "### Otras estructuras de datos\n",
    "\n",
    "Python ofrece muchas estructuras de datos para organizar la información, como ya hemos visto.\n",
    "\n",
    "Una de ellas es el \"Set\" o conjunto. \n",
    "\n",
    "Un ejemplo práctico de uso de conjuntos podría ser para eliminar elementos duplicados de una lista.\n",
    "\n",
    "Podemos eliminar los elementos duplicados de esta lista convirtiéndola primero a un conjunto, y luego volviéndola a convertir a una lista:"
   ]
  },
  {
   "cell_type": "code",
   "execution_count": 59,
   "metadata": {},
   "outputs": [
    {
     "name": "stdout",
     "output_type": "stream",
     "text": [
      "[1, 2, 3, 4, 5, 6]\n"
     ]
    }
   ],
   "source": [
    "numeros = [1, 2, 3, 3, 4, 5, 5, 6, 6, 6]\n",
    "\n",
    "sin_duplicados = list(set(numeros))\n",
    "print(sin_duplicados)  # Imprime [1, 2, 3, 4, 5, 6]"
   ]
  },
  {
   "cell_type": "markdown",
   "metadata": {},
   "source": [
    "Otro uso común de los conjuntos es para realizar operaciones de conjuntos, como la unión, intersección y diferencia. Por ejemplo:"
   ]
  },
  {
   "cell_type": "code",
   "execution_count": 61,
   "metadata": {},
   "outputs": [
    {
     "name": "stdout",
     "output_type": "stream",
     "text": [
      "{'Juan', 'Pedro', 'Mario', 'Pablo', 'Ana'}\n",
      "{'Ana'}\n",
      "{'Juan', 'Pedro'}\n"
     ]
    }
   ],
   "source": [
    "conjunto_a = {'Juan', 'Pedro', 'Ana'}\n",
    "conjunto_b = {'Ana', 'Pablo', 'Mario'}\n",
    "\n",
    "# Unión de los dos conjuntos\n",
    "unio = conjunto_a.union(conjunto_b)\n",
    "print(unio)  \n",
    "\n",
    "# Intersección de los dos conjuntos\n",
    "interseccion = conjunto_a.intersection(conjunto_b)\n",
    "print(interseccion)  \n",
    "\n",
    "# Diferencia entre el primer conjunto y el segundo\n",
    "diferencia = conjunto_a.difference(conjunto_b)\n",
    "print(diferencia)  "
   ]
  },
  {
   "cell_type": "markdown",
   "metadata": {},
   "source": [
    "## Leer y tratar ficheros\n"
   ]
  },
  {
   "cell_type": "code",
   "execution_count": 15,
   "metadata": {},
   "outputs": [
    {
     "name": "stdout",
     "output_type": "stream",
     "text": [
      "['Month', ' \"1958\"', ' \"1959\"', ' \"1960\"']\n",
      "['JAN', '340', '360', '417']\n",
      "['FEB', '318', '342', '391']\n",
      "['MAR', '362', '406', '419']\n",
      "['APR', '348', '396', '461']\n",
      "['MAY', '363', '420', '472']\n",
      "['JUN', '435', '472', '535']\n",
      "['JUL', '491', '548', '622']\n",
      "['AUG', '505', '559', '606']\n",
      "['SEP', '404', '463', '508']\n",
      "['OCT', '359', '407', '461']\n",
      "['NOV', '310', '362', '390']\n",
      "['DEC', '337', '405', '432']\n"
     ]
    }
   ],
   "source": [
    "import csv\n",
    "\n",
    "# Abrir el archivo en modo lectura\n",
    "with open('airtravel.csv', 'r') as f:\n",
    "    # Crear un objeto reader a partir del archivo\n",
    "    reader = csv.reader(f)\n",
    "\n",
    "    headers = next(reader) #Ignorar la cabecera\n",
    "    print(headers)\n",
    "  \n",
    "  # Iterar sobre las filas del archivo\n",
    "    for row in reader:\n",
    "        # Procesar cada fila\n",
    "        print(row)\n"
   ]
  },
  {
   "cell_type": "code",
   "execution_count": 17,
   "metadata": {},
   "outputs": [
    {
     "name": "stdout",
     "output_type": "stream",
     "text": [
      "['Month', ' \"1958\"', ' \"1959\"', ' \"1960\"']\n",
      "[{'JAN_avg': 'JAN', 'avg_flights': 372.33}, {'FEB_avg': 'FEB', 'avg_flights': 350.33}, {'MAR_avg': 'MAR', 'avg_flights': 395.67}, {'APR_avg': 'APR', 'avg_flights': 401.67}, {'MAY_avg': 'MAY', 'avg_flights': 418.33}, {'JUN_avg': 'JUN', 'avg_flights': 480.67}, {'JUL_avg': 'JUL', 'avg_flights': 553.67}, {'AUG_avg': 'AUG', 'avg_flights': 556.67}, {'SEP_avg': 'SEP', 'avg_flights': 458.33}, {'OCT_avg': 'OCT', 'avg_flights': 409.0}, {'NOV_avg': 'NOV', 'avg_flights': 354.0}, {'DEC_avg': 'DEC', 'avg_flights': 391.33}]\n"
     ]
    }
   ],
   "source": [
    "import csv\n",
    "\n",
    "# Abrir el archivo en modo lectura\n",
    "with open('airtravel.csv', 'r') as f:\n",
    "    # Crear un objeto reader a partir del archivo\n",
    "    reader = csv.reader(f)\n",
    "\n",
    "    \n",
    "    headers = next(reader) #Ignorar la cabecera\n",
    "    print(headers)\n",
    "\n",
    "    avg_months = []\n",
    "\n",
    "    # Iterar sobre las filas del archivo\n",
    "    for row in reader:\n",
    "        # Procesar cada fila\n",
    "        avg_months.append({row[0]+\"_avg\":row[0], \"avg_flights\":round(sum(map(int,row[1:]))/len(row[1:]),2)})\n",
    "\n",
    "    print(avg_months)"
   ]
  },
  {
   "cell_type": "code",
   "execution_count": 8,
   "metadata": {},
   "outputs": [
    {
     "name": "stdout",
     "output_type": "stream",
     "text": [
      "1285.5\n"
     ]
    }
   ],
   "source": []
  }
 ],
 "metadata": {
  "kernelspec": {
   "display_name": "Python 3.10.9 64-bit (microsoft store)",
   "language": "python",
   "name": "python3"
  },
  "language_info": {
   "codemirror_mode": {
    "name": "ipython",
    "version": 3
   },
   "file_extension": ".py",
   "mimetype": "text/x-python",
   "name": "python",
   "nbconvert_exporter": "python",
   "pygments_lexer": "ipython3",
   "version": "3.10.9"
  },
  "orig_nbformat": 4,
  "vscode": {
   "interpreter": {
    "hash": "85aece5883f23cf93a903b25fd3f6a5833dab6da9d10cf403dbbc785be5e4181"
   }
  }
 },
 "nbformat": 4,
 "nbformat_minor": 2
}
