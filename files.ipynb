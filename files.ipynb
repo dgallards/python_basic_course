{
 "cells": [
  {
   "cell_type": "markdown",
   "metadata": {},
   "source": [
    "Para trabajar con archivos en Python, primero debes abrir el archivo en modo lectura o escritura. Puedes hacerlo usando la función open() de Python.\n",
    "\n",
    "A continuación se muestra un ejemplo de cómo abrir un archivo para leer su contenido:"
   ]
  },
  {
   "cell_type": "code",
   "execution_count": 7,
   "metadata": {},
   "outputs": [
    {
     "name": "stdout",
     "output_type": "stream",
     "text": [
      "{\n",
      "  \"Employees\": [\n",
      "    {\n",
      "      \"userId\": \"krish\",\n",
      "      \"jobTitle\": \"Developer\",\n",
      "      \"firstName\": \"Krish\",\n",
      "      \"lastName\": \"Lee\",\n",
      "      \"employeeCode\": \"E1\",\n",
      "      \"region\": \"CA\",\n",
      "      \"phoneNumber\": \"788456123\",\n",
      "      \"emailAddress\": \"krish.lee@examplepython.com\"\n",
      "    },\n",
      "   \n"
     ]
    }
   ],
   "source": [
    "with open('employee-data.json', 'r') as f:\n",
    "    contenido = f.read(280)\n",
    "    print(contenido)"
   ]
  },
  {
   "cell_type": "markdown",
   "metadata": {},
   "source": [
    "Para escribir en un archivo, puedes usar el modo escritura ('w'). Por ejemplo:"
   ]
  },
  {
   "cell_type": "code",
   "execution_count": 19,
   "metadata": {},
   "outputs": [],
   "source": [
    "with open('archivo.txt', 'w') as f:\n",
    "    f.write('Hola, mundo!')"
   ]
  },
  {
   "cell_type": "markdown",
   "metadata": {},
   "source": [
    "Para navegar entre los archivos de nuestra carpeta haremos uso de la librería \"os\" que usaremos como interfaz entre el sistema operativo y Python"
   ]
  },
  {
   "cell_type": "code",
   "execution_count": 20,
   "metadata": {},
   "outputs": [
    {
     "name": "stdout",
     "output_type": "stream",
     "text": [
      "['.git', 'archivo.txt', 'control_structures.ipynb', 'employee-data.json', 'files.ipynb', 'functions.ipynb', 'introduction.ipynb', 'oop.ipynb', 'README.md']\n"
     ]
    }
   ],
   "source": [
    "import os\n",
    "\n",
    "# Listar los archivos en el directorio actual\n",
    "archivos = os.listdir('.')\n",
    "print(archivos)"
   ]
  },
  {
   "cell_type": "markdown",
   "metadata": {},
   "source": [
    "Para renombrar un archivo:"
   ]
  },
  {
   "cell_type": "code",
   "execution_count": 21,
   "metadata": {},
   "outputs": [],
   "source": [
    "import os\n",
    "\n",
    "os.rename(\"archivo.txt\",\"newArchivo.txt\")"
   ]
  },
  {
   "cell_type": "markdown",
   "metadata": {},
   "source": [
    "O por ejemplo, para borrar un archivo:"
   ]
  },
  {
   "cell_type": "code",
   "execution_count": 23,
   "metadata": {},
   "outputs": [],
   "source": [
    "import os\n",
    "\n",
    "# Eliminar el archivo 'archivo.txt'\n",
    "os.remove('newarchivo.txt')"
   ]
  },
  {
   "cell_type": "markdown",
   "metadata": {},
   "source": [
    "### Excepciones\n",
    "Es importante saber que el manejo de estas funciones debe ser controlado metódicamente ya que, por ejemplo, si intentamos borrar un archivo que no existe nos lanzará una excepción:"
   ]
  },
  {
   "cell_type": "code",
   "execution_count": 24,
   "metadata": {},
   "outputs": [
    {
     "ename": "FileNotFoundError",
     "evalue": "[WinError 2] El sistema no puede encontrar el archivo especificado: 'newarchivo.txt'",
     "output_type": "error",
     "traceback": [
      "\u001b[1;31m---------------------------------------------------------------------------\u001b[0m",
      "\u001b[1;31mFileNotFoundError\u001b[0m                         Traceback (most recent call last)",
      "Cell \u001b[1;32mIn[24], line 4\u001b[0m\n\u001b[0;32m      1\u001b[0m \u001b[39mimport\u001b[39;00m \u001b[39mos\u001b[39;00m\n\u001b[0;32m      3\u001b[0m \u001b[39m# Eliminar el archivo 'archivo.txt'\u001b[39;00m\n\u001b[1;32m----> 4\u001b[0m os\u001b[39m.\u001b[39;49mremove(\u001b[39m'\u001b[39;49m\u001b[39mnewarchivo.txt\u001b[39;49m\u001b[39m'\u001b[39;49m)\n",
      "\u001b[1;31mFileNotFoundError\u001b[0m: [WinError 2] El sistema no puede encontrar el archivo especificado: 'newarchivo.txt'"
     ]
    }
   ],
   "source": [
    "import os\n",
    "\n",
    "# Eliminar el archivo 'archivo.txt'\n",
    "os.remove('newarchivo.txt')"
   ]
  },
  {
   "cell_type": "markdown",
   "metadata": {},
   "source": [
    "Para controlar ésta excepción podemos utilizar los bloques try-except:"
   ]
  },
  {
   "cell_type": "code",
   "execution_count": 34,
   "metadata": {},
   "outputs": [
    {
     "name": "stdout",
     "output_type": "stream",
     "text": [
      "Mensaje de error: El sistema no puede encontrar el archivo especificado\n",
      "El error pertenece a la clase <slot wrapper '__str__' of 'OSError' objects>\n",
      "Tipo de excepción: FileNotFoundError\n",
      "Traza del error: <traceback object at 0x000001A4B35AC740>\n"
     ]
    }
   ],
   "source": [
    "import os\n",
    "\n",
    "try:\n",
    "\n",
    "    # Eliminar el archivo 'archivo.txt'\n",
    "    os.remove('archivo.txt')\n",
    "\n",
    "except Exception as e:\n",
    "    print(\"Mensaje de error:\", e.strerror)\n",
    "    print(\"El error pertenece a la clase\", e.__class__.__str__)\n",
    "    print(\"Tipo de excepción:\", e.__class__.__name__)\n",
    "    print(\"Traza del error:\", e.__traceback__)"
   ]
  },
  {
   "cell_type": "markdown",
   "metadata": {},
   "source": [
    "Como se puede observar el manejo de errores se realiza igual que en otros lenguajes de programación."
   ]
  },
  {
   "cell_type": "markdown",
   "metadata": {},
   "source": [
    "## Manejo de cadenas\n",
    "\n",
    "Las cadenas de caracteres en Python también son muy parecidas al resto de lenguajes de programación.\n",
    "\n",
    "Algunas operaciones y métodos comunes para manipular cadenas en Python son:"
   ]
  },
  {
   "cell_type": "code",
   "execution_count": null,
   "metadata": {},
   "outputs": [],
   "source": [
    "cadena1 = \"Hola\"\n",
    "cadena2 = \"Mundo\"\n",
    "cadena3 = cadena1 + \" \" + cadena2\n",
    "print(cadena3)  # imprime \"Hola Mundo\""
   ]
  },
  {
   "cell_type": "markdown",
   "metadata": {},
   "source": [
    "Repetición de cadenas:"
   ]
  },
  {
   "cell_type": "code",
   "execution_count": null,
   "metadata": {},
   "outputs": [],
   "source": [
    "cadena = \"Hola \"\n",
    "cadena_repetida = cadena * 3\n",
    "print(cadena_repetida)  # imprime \"Hola Hola Hola \""
   ]
  },
  {
   "cell_type": "markdown",
   "metadata": {},
   "source": [
    "Acceso a caracteres:"
   ]
  },
  {
   "cell_type": "code",
   "execution_count": null,
   "metadata": {},
   "outputs": [],
   "source": [
    "cadena = \"Hola mundo\"\n",
    "\n",
    "primer_caracter = cadena[0]"
   ]
  },
  {
   "cell_type": "markdown",
   "metadata": {},
   "source": [
    "Slicing:"
   ]
  },
  {
   "cell_type": "code",
   "execution_count": 40,
   "metadata": {},
   "outputs": [],
   "source": [
    "cadena = \"Hola Mundo\"\n",
    "subcadena = cadena[3:7]  # \"a Mu\"\n",
    "subcadena = cadena[:6]   # \"Hola M\""
   ]
  }
 ],
 "metadata": {
  "kernelspec": {
   "display_name": "Python 3.10.9 64-bit (microsoft store)",
   "language": "python",
   "name": "python3"
  },
  "language_info": {
   "codemirror_mode": {
    "name": "ipython",
    "version": 3
   },
   "file_extension": ".py",
   "mimetype": "text/x-python",
   "name": "python",
   "nbconvert_exporter": "python",
   "pygments_lexer": "ipython3",
   "version": "3.10.9"
  },
  "orig_nbformat": 4,
  "vscode": {
   "interpreter": {
    "hash": "85aece5883f23cf93a903b25fd3f6a5833dab6da9d10cf403dbbc785be5e4181"
   }
  }
 },
 "nbformat": 4,
 "nbformat_minor": 2
}
